{
 "cells": [
  {
   "cell_type": "code",
   "execution_count": 2,
   "metadata": {},
   "outputs": [],
   "source": [
    "#imports\n",
    "\n",
    "import matplotlib.pyplot as plt\n",
    "import numpy as np\n",
    "from random import randint"
   ]
  },
  {
   "cell_type": "markdown",
   "metadata": {},
   "source": [
    "### 1. Euclidean plane"
   ]
  },
  {
   "cell_type": "markdown",
   "metadata": {},
   "source": [
    "Consider this 3 points on 2D space:  \n",
    "$A=(4, 5)$  \n",
    "$B=(-2, -4)$  \n",
    "$C=(8, -1)$  "
   ]
  },
  {
   "cell_type": "markdown",
   "metadata": {},
   "source": [
    "#### 1.1. Plot them using `matplotlib`  "
   ]
  },
  {
   "cell_type": "code",
   "execution_count": 12,
   "metadata": {},
   "outputs": [
    {
     "data": {
      "image/png": "[encoded data removed]",
      "text/plain": [
       "<Figure size 432x288 with 1 Axes>"
      ]
     },
     "metadata": {
      "needs_background": "light"
     },
     "output_type": "display_data"
    }
   ],
   "source": [
    "plt.plot([4, -2, 8], [5, -4, -1], 'ro')\n",
    "plt.axis([-10, 10, -10, 10])\n",
    "plt.grid(True)\n",
    "plt.show()\n"
   ]
  },
  {
   "cell_type": "markdown",
   "metadata": {},
   "source": [
    "#### 1.2. Which distance is longer, $AC, AB, \\text{or} BC$? Write a function that calculates distance between two points."
   ]
  },
  {
   "cell_type": "code",
   "execution_count": 20,
   "metadata": {},
   "outputs": [
    {
     "name": "stdout",
     "output_type": "stream",
     "text": [
      "distance between  (4, 5) and (8, -1) is 7.211102550927978\n",
      "distance between  (4, 5) and (-2, -4) is 10.816653826391969\n",
      "distance between  (-2, -4) and (8, -1) is 10.44030650891055\n"
     ]
    }
   ],
   "source": [
    "A=(4, 5) \n",
    "B=(-2, -4)\n",
    "C=(8, -1)\n",
    "\n",
    "import math\n",
    "\n",
    "D_AC = math.sqrt( ((int(A[0])-int(C[0]))**2)+((int(A[1])-int(C[1]))**2) )\n",
    "\n",
    "print(\"distance between \", A,\"and\", C, \"is\",D_AC) \n",
    "\n",
    "D_AB = math.sqrt( ((int(A[0])-int(B[0]))**2)+((int(A[1])-int(B[1]))**2) )\n",
    "\n",
    "print(\"distance between \", A,\"and\", B, \"is\",D_AB) \n",
    "\n",
    "D_BC = math.sqrt( ((int(B[0])-int(C[0]))**2)+((int(B[1])-int(C[1]))**2) )\n",
    "\n",
    "print(\"distance between \", B,\"and\", C, \"is\",D_BC) "
   ]
  },
  {
   "cell_type": "markdown",
   "metadata": {},
   "source": [
    "#### 1.3. What is the perimeter of triangle $ABC$?"
   ]
  },
  {
   "cell_type": "code",
   "execution_count": 23,
   "metadata": {},
   "outputs": [
    {
     "name": "stdout",
     "output_type": "stream",
     "text": [
      "The perimeter of triangle  𝐴𝐵𝐶 is: 28.4680628862305\n"
     ]
    }
   ],
   "source": [
    "P = D_AC + D_AB + D_BC\n",
    "print('The perimeter of triangle  𝐴𝐵𝐶 is:', P)"
   ]
  },
  {
   "cell_type": "markdown",
   "metadata": {},
   "source": [
    "### 2. Linear functions"
   ]
  },
  {
   "cell_type": "markdown",
   "metadata": {},
   "source": [
    "Consider the following straight lines on 2D space:  \n",
    "$y_1=2x-3$  \n",
    "$y_2=-3x+12$  "
   ]
  },
  {
   "cell_type": "markdown",
   "metadata": {},
   "source": [
    "#### 2.1. Plot them"
   ]
  },
  {
   "cell_type": "code",
   "execution_count": 8,
   "metadata": {},
   "outputs": [
    {
     "data": {
      "image/png": "[encoded data removed]",
      "text/plain": [
       "<Figure size 432x288 with 1 Axes>"
      ]
     },
     "metadata": {
      "needs_background": "light"
     },
     "output_type": "display_data"
    }
   ],
   "source": [
    "x = np.linspace(-50,50,100)\n",
    "y1 = (2*x)-3\n",
    "y2 = (-3*x)+12\n",
    "plt.grid(True)\n",
    "plt.plot(x,y1,y2);"
   ]
  },
  {
   "cell_type": "markdown",
   "metadata": {},
   "source": [
    "#### 2.2. What are the respective slopes"
   ]
  },
  {
   "cell_type": "code",
   "execution_count": 37,
   "metadata": {},
   "outputs": [],
   "source": [
    "#each slope is a number that describes both the direction and the steepness of the function, and it is calculated as \"rise over run\" (change in y divided by change in x)"
   ]
  },
  {
   "cell_type": "markdown",
   "metadata": {},
   "source": [
    "#### 2.3. Give 3 points through which $y_1$ goes through"
   ]
  },
  {
   "cell_type": "code",
   "execution_count": 22,
   "metadata": {},
   "outputs": [
    {
     "data": {
      "text/plain": [
       "[(12, 21), (-7, -17), (6, 9)]"
      ]
     },
     "execution_count": 22,
     "metadata": {},
     "output_type": "execute_result"
    }
   ],
   "source": [
    "xypoints = []\n",
    "x_v = []\n",
    "\n",
    "def evaluate_equiation(x):\n",
    "    y1 = ((2*x)-3)\n",
    "    return (x, y1)\n",
    "\n",
    "for r in range(3):\n",
    "    value = randint(-20, 20)\n",
    "    x_v.append(value)\n",
    "\n",
    "for x in x_v:\n",
    "    points = evaluate_equiation(x)\n",
    "    xypoints.append(points)\n",
    "    \n",
    "xypoints"
   ]
  },
  {
   "cell_type": "markdown",
   "metadata": {},
   "source": [
    "#### 2.4. Where do they intersect?"
   ]
  },
  {
   "cell_type": "code",
   "execution_count": 35,
   "metadata": {},
   "outputs": [
    {
     "name": "stdout",
     "output_type": "stream",
     "text": [
      "El punto donde se intersectan las funcines y1 y y2 es en el punto (3, 3)\n"
     ]
    }
   ],
   "source": [
    "y1 = (2*x)-3\n",
    "y2 = (-3*x)+12\n",
    "\n",
    "from sympy import solve\n",
    "x = symbols('x')\n",
    "x_inter = solve((2*x)-3-((-3*x)+12), x)\n",
    "\n",
    "print('El punto donde se intersectan las funcines y1 y y2 es en el punto', evaluate_equiation(x_inter[0]))\n"
   ]
  },
  {
   "cell_type": "markdown",
   "metadata": {},
   "source": [
    "#### 2.5. BONUS "
   ]
  },
  {
   "cell_type": "markdown",
   "metadata": {},
   "source": [
    "My yearly salary has increased **linearly** with my age:  \n",
    "When I was 21 years old, I did 10000\\\\$ / year    \n",
    "Today I am 39 years old, I am doing 33400\\\\$ / year  \n",
    "How much will I do when I get 50 years old?"
   ]
  },
  {
   "cell_type": "code",
   "execution_count": null,
   "metadata": {},
   "outputs": [],
   "source": [
    "\n",
    "\n"
   ]
  },
  {
   "cell_type": "markdown",
   "metadata": {},
   "source": [
    "### 3. Polynomials"
   ]
  },
  {
   "cell_type": "markdown",
   "metadata": {},
   "source": [
    "Consider these different degree polynomials:  \n",
    "$y_2=x^2-3x-10$  \n",
    "$y_3=x^3-2x^2+5x+1$  \n",
    "$y_4=x^4-x^3+x^2-x+1$  "
   ]
  },
  {
   "cell_type": "markdown",
   "metadata": {},
   "source": [
    "#### 3.1. Plot them"
   ]
  },
  {
   "cell_type": "code",
   "execution_count": 41,
   "metadata": {},
   "outputs": [
    {
     "data": {
      "text/plain": [
       "''"
      ]
     },
     "execution_count": 41,
     "metadata": {},
     "output_type": "execute_result"
    },
    {
     "data": {
      "image/png": "[encoded data removed]",
      "text/plain": [
       "<Figure size 432x288 with 1 Axes>"
      ]
     },
     "metadata": {
      "needs_background": "light"
     },
     "output_type": "display_data"
    }
   ],
   "source": [
    "x = np.linspace(-5,5,10000)\n",
    "y2 = ((x**2) - (3*x) - 10)\n",
    "y3 = ((x**3) - (2*(x**2)) + (5*x) + 1)\n",
    "y4 = ((x**4) - (x**3) + (x**2) - x + 1)\n",
    "\n",
    "plt.grid(True)\n",
    "plt.plot(x,y2)\n",
    "plt.plot(x,y3)\n",
    "plt.plot(x,y4)\n",
    "\n",
    ";"
   ]
  },
  {
   "cell_type": "markdown",
   "metadata": {},
   "source": [
    "#### 3.2. Which one takes a bigger value on $x=0$? On $x=2$? On $x=100$?"
   ]
  },
  {
   "cell_type": "code",
   "execution_count": 44,
   "metadata": {
    "scrolled": true
   },
   "outputs": [
    {
     "name": "stdout",
     "output_type": "stream",
     "text": [
      "when x = 0  y3 : 1\n",
      "when x = 2  y3 : 11\n",
      "when x = 100  y4 : 99009901\n"
     ]
    }
   ],
   "source": [
    "y2 = ((x**2) - (3*x) - 10)\n",
    "y3 = ((x**3) - (2*(x**2)) + (5*x) + 1)\n",
    "y4 = ((x**4) - (x**3) + (x**2) - (x) + 1)\n",
    "\n",
    "xvalues = [0, 2, 100]\n",
    "\n",
    "def evaluate_equiation2(x):\n",
    "    y2 = ((x**2) - (3*x) - 10)\n",
    "    return (y2)\n",
    "\n",
    "def evaluate_equiation3(x):\n",
    "    y3 = ((x**3) - (2*(x**2)) + (5*x) + 1)\n",
    "    return (y3)\n",
    "\n",
    "def evaluate_equiation4(x):\n",
    "    y4 = ((x**4) - (x**3) + (x**2) - (x) + 1)\n",
    "    return (y4)\n",
    "\n",
    "for x in xvalues:\n",
    "    yx0 = evaluate_equiation2(x)\n",
    "    y_x0 = evaluate_equiation3(x)\n",
    "    y__x0 = evaluate_equiation4(x)\n",
    "    if (yx0 >= y_x0) & (yx0 >= y__x0):\n",
    "        print('when x =', x,' y2 :', yx0)\n",
    "    elif (y_x0 >= yx0) & (y_x0 >= y__x0):\n",
    "        print('when x =', x,' y3 :', y_x0)\n",
    "    elif (y__x0 >= y_x0) & (y__x0 >= yx0):\n",
    "        print('when x =', x,' y4 :', y__x0)\n",
    "    "
   ]
  },
  {
   "cell_type": "markdown",
   "metadata": {},
   "source": [
    "#### 3.3. Who is the vertex of parabola $y_2$?"
   ]
  },
  {
   "cell_type": "code",
   "execution_count": 47,
   "metadata": {},
   "outputs": [
    {
     "name": "stdout",
     "output_type": "stream",
     "text": [
      "Vertex of the parabola is ( 1.5 , -12.25 )\n"
     ]
    }
   ],
   "source": [
    "y2 = ((x**2) - (3*x) - 10)\n",
    "\n",
    "p = 1\n",
    "q = - 3\n",
    "r = - 10\n",
    "\n",
    "def parabola(p, q, r):\n",
    "    print(\"Vertex of the parabola is (\", (-q/(2*p)) , \",\" , (((4*p*r)-(q*q))/(4*p)) , \")\" )\n",
    "\n",
    "parabola(p, q, r)"
   ]
  },
  {
   "cell_type": "markdown",
   "metadata": {},
   "source": [
    "#### 3.4. Where does $y_2$ intersect X axis? And Y axis?"
   ]
  },
  {
   "cell_type": "code",
   "execution_count": 145,
   "metadata": {},
   "outputs": [
    {
     "name": "stdout",
     "output_type": "stream",
     "text": [
      "when y2 intersect x, y is equial to -10\n",
      "when y2 intersect y, x could take two values: 5.0 and -2.0\n"
     ]
    }
   ],
   "source": [
    "x = 0 \n",
    "y = evaluate_equiation2(0)\n",
    "\n",
    "#y = 0\n",
    "xp = (-(-3)+(((-3)**2)-((4*(1))*(-10)))**0.5)/(2*(1))\n",
    "xn = (-(-3)-(((-3)**2)-((4*(1))*(-10)))**0.5)/(2*(1))\n",
    "\n",
    "print(\"when y2 intersect x, y is equial to\", y)\n",
    "\n",
    "print(\"when y2 intersect y, x could take two values:\", xp, 'and', xn)\n"
   ]
  },
  {
   "cell_type": "markdown",
   "metadata": {},
   "source": [
    "#### 3.5. As x gets very big, what happens to $y$ go in each case?"
   ]
  },
  {
   "cell_type": "code",
   "execution_count": 67,
   "metadata": {},
   "outputs": [],
   "source": [
    "#As x gets bigger, the value of y increases in y2, y3 and y4"
   ]
  },
  {
   "cell_type": "markdown",
   "metadata": {},
   "source": [
    "#### 3.6. As x gets very small (big negative), what happens to $y$ go in each case?"
   ]
  },
  {
   "cell_type": "code",
   "execution_count": null,
   "metadata": {},
   "outputs": [],
   "source": [
    "#As x gets small and even takes a negative value, the value of y decreases in y3, while increases in y2 and y4"
   ]
  },
  {
   "cell_type": "markdown",
   "metadata": {},
   "source": [
    "### 4. Exponential"
   ]
  },
  {
   "cell_type": "markdown",
   "metadata": {},
   "source": [
    "#### 4.1. Print number $e$ rounded to 3 decimal figures"
   ]
  },
  {
   "cell_type": "code",
   "execution_count": 132,
   "metadata": {},
   "outputs": [
    {
     "name": "stdout",
     "output_type": "stream",
     "text": [
      "2.718\n"
     ]
    }
   ],
   "source": [
    "exponent = 1\n",
    "\n",
    "print(\"{:.3f}\".format(np.exp(exponent)))"
   ]
  },
  {
   "cell_type": "markdown",
   "metadata": {},
   "source": [
    "#### 4.2. Compute $e$ to the powers 0, 1, 2, 3, 10"
   ]
  },
  {
   "cell_type": "code",
   "execution_count": 101,
   "metadata": {},
   "outputs": [
    {
     "name": "stdout",
     "output_type": "stream",
     "text": [
      "0 1.0\n",
      "1 2.718281828459045\n",
      "2 7.38905609893065\n",
      "3 20.085536923187668\n",
      "10 22026.465794806718\n"
     ]
    }
   ],
   "source": [
    "powers = [0, 1, 2, 3, 10]\n",
    "\n",
    "for p in powers:\n",
    "    result = math.exp(p)\n",
    "    print(p, result)"
   ]
  },
  {
   "cell_type": "markdown",
   "metadata": {},
   "source": [
    "#### 4.3. Compute $e$ to the powers 0, -1, -2, -3, -10"
   ]
  },
  {
   "cell_type": "code",
   "execution_count": 102,
   "metadata": {},
   "outputs": [
    {
     "name": "stdout",
     "output_type": "stream",
     "text": [
      "0 1.0\n",
      "-1 0.36787944117144233\n",
      "-2 0.1353352832366127\n",
      "-3 0.049787068367863944\n",
      "-10 4.5399929762484854e-05\n"
     ]
    }
   ],
   "source": [
    "new_powers = [0, -1, -2, -3, -10]\n",
    "\n",
    "for p in new_powers:\n",
    "    result2 = math.exp(p)\n",
    "    print(p, result2)"
   ]
  },
  {
   "cell_type": "markdown",
   "metadata": {},
   "source": [
    "#### 4.4. Plot functions $e^x$, $e^{2x}$, $e^{-x}$"
   ]
  },
  {
   "cell_type": "markdown",
   "metadata": {},
   "source": [
    "Note: choose an appropiate x-range to visualize them all toguether"
   ]
  },
  {
   "cell_type": "code",
   "execution_count": 133,
   "metadata": {
    "scrolled": true
   },
   "outputs": [
    {
     "data": {
      "image/png": "[encoded data removed]",
      "text/plain": [
       "<Figure size 432x288 with 1 Axes>"
      ]
     },
     "metadata": {
      "needs_background": "light"
     },
     "output_type": "display_data"
    }
   ],
   "source": [
    "exponent2 = (x)\n",
    "first = np.exp(exponent2)\n",
    "\n",
    "exponent3 = (2*x)\n",
    "second = np.exp(exponent3)\n",
    "\n",
    "exponent4 = (-x)\n",
    "third = np.exp(exponent4)\n",
    "\n",
    "x = np.linspace(-5,5,100)\n",
    "plt.plot(x, first)\n",
    "plt.plot(x, second)\n",
    "plt.plot(x, third);\n"
   ]
  },
  {
   "cell_type": "markdown",
   "metadata": {},
   "source": [
    "### 5. Sum notation"
   ]
  },
  {
   "cell_type": "markdown",
   "metadata": {},
   "source": [
    "Find the following:"
   ]
  },
  {
   "cell_type": "markdown",
   "metadata": {},
   "source": [
    "$$\\sum_{n=4}^7 n$$"
   ]
  },
  {
   "cell_type": "code",
   "execution_count": 116,
   "metadata": {},
   "outputs": [
    {
     "name": "stderr",
     "output_type": "stream",
     "text": [
      "<ipython-input-116-0fbb34ffde33>:2: DeprecationWarning: scipy.sum is deprecated and will be removed in SciPy 2.0.0, use numpy.sum instead\n",
      "  return sum(expression(i) for i in range(start, end))\n"
     ]
    },
    {
     "data": {
      "text/plain": [
       "15"
      ]
     },
     "execution_count": 116,
     "metadata": {},
     "output_type": "execute_result"
    }
   ],
   "source": [
    "def sigma_sum(start, end, expression):\n",
    "    return sum(expression(i) for i in range(start, end))\n",
    "\n",
    "sigma_sum(4, 7, lambda i: i)"
   ]
  },
  {
   "cell_type": "markdown",
   "metadata": {},
   "source": [
    "$$\\sum_{n=-2}^3 (n + 1)$$"
   ]
  },
  {
   "cell_type": "code",
   "execution_count": 117,
   "metadata": {},
   "outputs": [
    {
     "name": "stderr",
     "output_type": "stream",
     "text": [
      "<ipython-input-116-0fbb34ffde33>:2: DeprecationWarning: scipy.sum is deprecated and will be removed in SciPy 2.0.0, use numpy.sum instead\n",
      "  return sum(expression(i) for i in range(start, end))\n"
     ]
    },
    {
     "data": {
      "text/plain": [
       "5"
      ]
     },
     "execution_count": 117,
     "metadata": {},
     "output_type": "execute_result"
    }
   ],
   "source": [
    "sigma_sum(-2, 3, lambda i: i + 1)"
   ]
  },
  {
   "cell_type": "markdown",
   "metadata": {},
   "source": [
    "$$\\sum_{n=-2}^3 (n^2 - 2)$$"
   ]
  },
  {
   "cell_type": "code",
   "execution_count": 107,
   "metadata": {},
   "outputs": [
    {
     "name": "stderr",
     "output_type": "stream",
     "text": [
      "<ipython-input-105-0fbb34ffde33>:2: DeprecationWarning: scipy.sum is deprecated and will be removed in SciPy 2.0.0, use numpy.sum instead\n",
      "  return sum(expression(i) for i in range(start, end))\n"
     ]
    },
    {
     "data": {
      "text/plain": [
       "0"
      ]
     },
     "execution_count": 107,
     "metadata": {},
     "output_type": "execute_result"
    }
   ],
   "source": [
    "sigma_sum(-2, 3, lambda i: (i**2) - 2)"
   ]
  },
  {
   "cell_type": "markdown",
   "metadata": {},
   "source": [
    "$$\\sum_{n=0}^4 (10^n - 1)$$"
   ]
  },
  {
   "cell_type": "code",
   "execution_count": 118,
   "metadata": {},
   "outputs": [
    {
     "name": "stderr",
     "output_type": "stream",
     "text": [
      "<ipython-input-116-0fbb34ffde33>:2: DeprecationWarning: scipy.sum is deprecated and will be removed in SciPy 2.0.0, use numpy.sum instead\n",
      "  return sum(expression(i) for i in range(start, end))\n"
     ]
    },
    {
     "data": {
      "text/plain": [
       "1107"
      ]
     },
     "execution_count": 118,
     "metadata": {},
     "output_type": "execute_result"
    }
   ],
   "source": [
    "sigma_sum(0, 4, lambda i: ((10**i) - 1))"
   ]
  },
  {
   "cell_type": "markdown",
   "metadata": {},
   "source": [
    "### 6. Combinatorics"
   ]
  },
  {
   "cell_type": "markdown",
   "metadata": {},
   "source": [
    "#### 6.1. Ten people go to a party. How many handshakes happen?"
   ]
  },
  {
   "cell_type": "code",
   "execution_count": 113,
   "metadata": {},
   "outputs": [
    {
     "name": "stdout",
     "output_type": "stream",
     "text": [
      "3628800\n"
     ]
    }
   ],
   "source": [
    "from functools import reduce\n",
    "\n",
    "n = [10,9,8,7,6,5,4,3,2,1]\n",
    "factorial = reduce(lambda x,y: x*y,n)\n",
    "\n",
    "print(factorial)\n"
   ]
  },
  {
   "cell_type": "markdown",
   "metadata": {},
   "source": [
    "#### 6.2. My family is composed of 11 members. By christmas, one buys food, one cooks and one cleans. How many possible arrangements of buyer-cooker-cleaner are there?"
   ]
  },
  {
   "cell_type": "code",
   "execution_count": 114,
   "metadata": {},
   "outputs": [
    {
     "name": "stdout",
     "output_type": "stream",
     "text": [
      "990\n"
     ]
    }
   ],
   "source": [
    "n = [11,10,9]\n",
    "\n",
    "factorial = reduce(lambda x,y: x*y,n)\n",
    "\n",
    "print(factorial)"
   ]
  },
  {
   "cell_type": "markdown",
   "metadata": {},
   "source": [
    "### BONUS"
   ]
  },
  {
   "cell_type": "markdown",
   "metadata": {},
   "source": [
    "11 and 13 are twin primes, since:\n",
    " - they are both primes  \n",
    " - their distance is 2\n",
    " \n",
    "Find all pairs of twin primes below 1000"
   ]
  },
  {
   "cell_type": "code",
   "execution_count": null,
   "metadata": {},
   "outputs": [],
   "source": []
  }
 ],
 "metadata": {
  "kernelspec": {
   "display_name": "Python 3",
   "language": "python",
   "name": "python3"
  },
  "language_info": {
   "codemirror_mode": {
    "name": "ipython",
    "version": 3
   },
   "file_extension": ".py",
   "mimetype": "text/x-python",
   "name": "python",
   "nbconvert_exporter": "python",
   "pygments_lexer": "ipython3",
   "version": "3.8.5"
  },
  "toc": {
   "base_numbering": 1,
   "nav_menu": {},
   "number_sections": true,
   "sideBar": true,
   "skip_h1_title": false,
   "title_cell": "Table of Contents",
   "title_sidebar": "Contents",
   "toc_cell": false,
   "toc_position": {},
   "toc_section_display": true,
   "toc_window_display": false
  },
  "varInspector": {
   "cols": {
    "lenName": 16,
    "lenType": 16,
    "lenVar": 40
   },
   "kernels_config": {
    "python": {
     "delete_cmd_postfix": "",
     "delete_cmd_prefix": "del ",
     "library": "var_list.py",
     "varRefreshCmd": "print(var_dic_list())"
    },
    "r": {
     "delete_cmd_postfix": ") ",
     "delete_cmd_prefix": "rm(",
     "library": "var_list.r",
     "varRefreshCmd": "cat(var_dic_list()) "
    }
   },
   "types_to_exclude": [
    "module",
    "function",
    "builtin_function_or_method",
    "instance",
    "_Feature"
   ],
   "window_display": false
  }
 },
 "nbformat": 4,
 "nbformat_minor": 4
}
