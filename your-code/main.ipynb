{
 "cells": [
  {
   "cell_type": "code",
   "execution_count": 13,
   "metadata": {},
   "outputs": [],
   "source": [
    "#imports\n",
    "import pandas as pd\n",
    "import numpy as np\n",
    "import matplotlib.pyplot as plt\n",
    "import math"
   ]
  },
  {
   "cell_type": "markdown",
   "metadata": {},
   "source": [
    "### 1. Euclidean plane"
   ]
  },
  {
   "cell_type": "markdown",
   "metadata": {},
   "source": [
    "Consider this 3 points on 2D space:  \n",
    "$A=(4, 5)$  \n",
    "$B=(-2, -4)$  \n",
    "$C=(8, -1)$  "
   ]
  },
  {
   "cell_type": "markdown",
   "metadata": {},
   "source": [
    "#### 1.1. Plot them using `matplotlib`  "
   ]
  },
  {
   "cell_type": "code",
   "execution_count": 14,
   "metadata": {},
   "outputs": [
    {
     "data": {
      "text/plain": [
       "<matplotlib.collections.PathCollection at 0x260fa590a60>"
      ]
     },
     "execution_count": 14,
     "metadata": {},
     "output_type": "execute_result"
    },
    {
     "data": {
      "image/png": "[encoded data removed]",
      "text/plain": [
       "<Figure size 432x288 with 1 Axes>"
      ]
     },
     "metadata": {
      "needs_background": "light"
     },
     "output_type": "display_data"
    }
   ],
   "source": [
    "x_coordinates = [4, -2, 8]\n",
    "y_coordinates = [5, -4, -1]\n",
    "\n",
    "plt.scatter(x_coordinates, y_coordinates)"
   ]
  },
  {
   "cell_type": "markdown",
   "metadata": {},
   "source": [
    "#### 1.2. Which distance is longer, $AC, AB, \\text{or} BC$? Write a function that calculates distance between two points."
   ]
  },
  {
   "cell_type": "code",
   "execution_count": 17,
   "metadata": {},
   "outputs": [
    {
     "name": "stdout",
     "output_type": "stream",
     "text": [
      "Distance A-B: 10.816653826391969\n",
      "Distance A-C: 7.211102550927979\n",
      "Distance B-C: 10.44030650891055\n"
     ]
    }
   ],
   "source": [
    "𝐴=(4,5)\n",
    "𝐵=(-2,-4)\n",
    "𝐶=(8,-1)\n",
    "\n",
    "a = (math.dist(A, B))\n",
    "b = (math.dist(A, C))\n",
    "c = (math.dist(B, C))\n",
    "\n",
    "print(\"Distance A-B:\", a)\n",
    "print(\"Distance A-C:\", b)\n",
    "print(\"Distance B-C:\", c)\n",
    "# Distance between A and B is the longest"
   ]
  },
  {
   "cell_type": "markdown",
   "metadata": {},
   "source": [
    "#### 1.3. What is the perimeter of triangle $ABC$?"
   ]
  },
  {
   "cell_type": "code",
   "execution_count": 19,
   "metadata": {},
   "outputs": [
    {
     "name": "stdout",
     "output_type": "stream",
     "text": [
      "PERIMETER: 28.4680628862305\n"
     ]
    }
   ],
   "source": [
    "perim = (a+b+c)\n",
    "print(\"PERIMETER:\", perim)"
   ]
  },
  {
   "cell_type": "markdown",
   "metadata": {},
   "source": [
    "### 2. Linear functions"
   ]
  },
  {
   "cell_type": "markdown",
   "metadata": {},
   "source": [
    "Consider the following straight lines on 2D space:  \n",
    "$y_1=2x-3$  \n",
    "$y_2=-3x+12$  "
   ]
  },
  {
   "cell_type": "markdown",
   "metadata": {},
   "source": [
    "#### 2.1. Plot them"
   ]
  },
  {
   "cell_type": "code",
   "execution_count": 20,
   "metadata": {},
   "outputs": [
    {
     "data": {
      "text/plain": [
       "[<matplotlib.lines.Line2D at 0x260fa8d4af0>]"
      ]
     },
     "execution_count": 20,
     "metadata": {},
     "output_type": "execute_result"
    },
    {
     "data": {
      "image/png": "[encoded data removed]",
      "text/plain": [
       "<Figure size 432x288 with 1 Axes>"
      ]
     },
     "metadata": {
      "needs_background": "light"
     },
     "output_type": "display_data"
    }
   ],
   "source": [
    " \n",
    "x = np.random.random([5,100])\n",
    "x1 = x[1, :]\n",
    "x2 = x[2, :]\n",
    "\n",
    "x1.sort()\n",
    "x2.sort()\n",
    "\n",
    "y1 = 2*x1 - 3\n",
    "y2 = -3*x2 + 12\n",
    "\n",
    "plt.plot(x1, y1)\n",
    "plt.plot(x2, y2)"
   ]
  },
  {
   "cell_type": "markdown",
   "metadata": {},
   "source": [
    "#### 2.2. What are the respective slopes"
   ]
  },
  {
   "cell_type": "code",
   "execution_count": 21,
   "metadata": {},
   "outputs": [
    {
     "name": "stdout",
     "output_type": "stream",
     "text": [
      "0.2\n",
      "-2.6\n",
      "1\n",
      "-1\n"
     ]
    }
   ],
   "source": [
    "y1 = 2*x1 - 3\n",
    "\n",
    "x1 = 0.2\n",
    "y1 = 2*0.2 - 3\n",
    "x2 = 1\n",
    "y2 = 2*1 - 3\n",
    "\n",
    "\n",
    "print(x1)\n",
    "print(y1)\n",
    "print(x2)\n",
    "print(y2)"
   ]
  },
  {
   "cell_type": "code",
   "execution_count": 22,
   "metadata": {},
   "outputs": [
    {
     "name": "stdout",
     "output_type": "stream",
     "text": [
      "Slope1: 2.0\n"
     ]
    }
   ],
   "source": [
    "def slope(x1, y1, x2, y2):\n",
    "    return (float)(y2-y1)/(x2-x1)\n",
    "\n",
    "x1 = 0.2\n",
    "y1 = -2.6\n",
    "x2 = 1\n",
    "y2 = -1 \n",
    "\n",
    "print(\"Slope1:\", slope(x1, y1, x2, y2))"
   ]
  },
  {
   "cell_type": "code",
   "execution_count": 43,
   "metadata": {},
   "outputs": [
    {
     "name": "stdout",
     "output_type": "stream",
     "text": [
      "0.2\n",
      "11.4\n",
      "1\n",
      "9\n"
     ]
    }
   ],
   "source": [
    "y2 = -3*x2 + 12\n",
    "\n",
    "x3 = 0.2\n",
    "y3 = -3*0.2 + 12\n",
    "x4 = 1\n",
    "y4 = -3*1 + 12\n",
    "\n",
    "print(x3)\n",
    "print(y3)\n",
    "print(x4)\n",
    "print(y4)"
   ]
  },
  {
   "cell_type": "code",
   "execution_count": 23,
   "metadata": {},
   "outputs": [
    {
     "name": "stdout",
     "output_type": "stream",
     "text": [
      "Slope3: -3.0\n"
     ]
    }
   ],
   "source": [
    "def slope(x3, y3, x4, y4):\n",
    "    return (float)(y4-y3)/(x4-x3)\n",
    "\n",
    "x3 = 0.2\n",
    "y3 = 11.4\n",
    "x4 = 1\n",
    "y4 = 9\n",
    "\n",
    "print(\"Slope3:\", round(slope(x3, y3, x4, y4), 2))"
   ]
  },
  {
   "cell_type": "markdown",
   "metadata": {},
   "source": [
    "#### 2.3. Give 3 points through which $y_1$ goes through"
   ]
  },
  {
   "cell_type": "code",
   "execution_count": 30,
   "metadata": {},
   "outputs": [
    {
     "name": "stdout",
     "output_type": "stream",
     "text": [
      "Point1: (0.2, -2.6)\n",
      "Point2: (1, -1)\n",
      "Point3: (0.5, -2.0)\n"
     ]
    }
   ],
   "source": [
    "y1 = 2*x1 - 3\n",
    "\n",
    "x1 = 0.2\n",
    "y1 = 2*0.2 - 3\n",
    "x2 = 1\n",
    "y2 = 2*1 - 3\n",
    "x3 = 0.5\n",
    "y3 = 2*0.5 - 3\n",
    "\n",
    "\n",
    "print(\"Point1:\", (x1,y1))\n",
    "print(\"Point2:\", (x2,y2))\n",
    "print(\"Point3:\", (x3,y3))"
   ]
  },
  {
   "cell_type": "markdown",
   "metadata": {},
   "source": [
    "#### 2.4. Where do they intersect?"
   ]
  },
  {
   "cell_type": "code",
   "execution_count": 31,
   "metadata": {},
   "outputs": [
    {
     "name": "stdout",
     "output_type": "stream",
     "text": [
      "intersect ( 3.0 , 3 )\n",
      "3\n"
     ]
    }
   ],
   "source": [
    "y1 = 2*x1 - 3\n",
    "y2 = -3*x2 + 12\n",
    "\n",
    "# x = (b1-b2) / (m2-m1)\n",
    "# y = m1*x + b1\n",
    "\n",
    "x = (-3-12) / (-3 - 2)\n",
    "y1 = 2*3 - 3\n",
    "y2 = -3*3 +12\n",
    "print (\"intersect\", \"(\", x, \",\",  y1, \")\")\n",
    "print (y2) # Comprobación\n",
    "#Intersercción (3,3)"
   ]
  },
  {
   "cell_type": "markdown",
   "metadata": {},
   "source": [
    "#### 2.5. BONUS "
   ]
  },
  {
   "cell_type": "markdown",
   "metadata": {},
   "source": [
    "My yearly salary has increased **linearly** with my age:  \n",
    "When I was 21 years old, I did 10000\\\\$ / year    \n",
    "Today I am 39 years old, I am doing 33400\\\\$ / year  \n",
    "How much will I do when I get 50 years old?"
   ]
  },
  {
   "cell_type": "code",
   "execution_count": 6,
   "metadata": {},
   "outputs": [
    {
     "name": "stdout",
     "output_type": "stream",
     "text": [
      "Slope: 1300.0\n"
     ]
    }
   ],
   "source": [
    "p1 = (21, 10000)\n",
    "p2 = (39, 33400)\n",
    "p3 = (50, \"y\")\n",
    "\n",
    "#slope\n",
    "m = (33400 - 10000)/(39 - 21)\n",
    "print(\"Slope:\", m)"
   ]
  },
  {
   "cell_type": "code",
   "execution_count": 4,
   "metadata": {},
   "outputs": [
    {
     "name": "stdout",
     "output_type": "stream",
     "text": [
      "-17300\n"
     ]
    }
   ],
   "source": [
    "# y = 1500x + b.\n",
    "b = 33400 - (1300*39)\n",
    "print(b)"
   ]
  },
  {
   "cell_type": "code",
   "execution_count": 7,
   "metadata": {},
   "outputs": [
    {
     "name": "stdout",
     "output_type": "stream",
     "text": [
      "With 50 you will earn: 57700\n"
     ]
    }
   ],
   "source": [
    "# 50 years\n",
    "y = 1500*50 -17300\n",
    "print(\"With 50 you will earn:\", y)"
   ]
  },
  {
   "cell_type": "markdown",
   "metadata": {},
   "source": [
    "### 3. Polynomials"
   ]
  },
  {
   "cell_type": "markdown",
   "metadata": {},
   "source": [
    "Consider these different degree polynomials:  \n",
    "$y_2=x^2-3x-10$  \n",
    "$y_3=x^3-2x^2+5x+1$  \n",
    "$y_4=x^4-x^3+x^2-x+1$  "
   ]
  },
  {
   "cell_type": "code",
   "execution_count": null,
   "metadata": {},
   "outputs": [],
   "source": [
    "𝑦2 = x**2-3x-10\n",
    "𝑦3 = x**3-2x**2+5x+1\n",
    "𝑦4 = x**4-x**3+x**2-x+1"
   ]
  },
  {
   "cell_type": "markdown",
   "metadata": {},
   "source": [
    "#### 3.1. Plot them"
   ]
  },
  {
   "cell_type": "code",
   "execution_count": 215,
   "metadata": {},
   "outputs": [
    {
     "data": {
      "text/plain": [
       "[<matplotlib.lines.Line2D at 0x136474d9760>]"
      ]
     },
     "execution_count": 215,
     "metadata": {},
     "output_type": "execute_result"
    },
    {
     "data": {
      "image/png": "[encoded data removed]",
      "text/plain": [
       "<Figure size 1440x1440 with 1 Axes>"
      ]
     },
     "metadata": {
      "needs_background": "light"
     },
     "output_type": "display_data"
    }
   ],
   "source": [
    "def design_grid():\n",
    "    fig, ax = plt.subplots(figsize=(20, 20))\n",
    "    ticks = np.arange(-20, 20, 1)\n",
    "    ax.set_xticks(ticks)\n",
    "    ax.set_yticks(ticks)   \n",
    "    ax.axhline(y=0)\n",
    "    ax.axvline(x=0)\n",
    "    ax.set_xlim([-20, 20])\n",
    "    ax.set_ylim([-20, 20])\n",
    "    \n",
    "design_grid()\n",
    "\n",
    "x = np.linspace(start = -10,stop = 10, num = 100)\n",
    "\n",
    "𝑦_2 = x**2 - 3*x - 10\n",
    "𝑦_3 = x**3 - 2*x**2 + 5*x + 1\n",
    "𝑦_4 = x**4 - x**3 + x**2 - x + 1\n",
    "\n",
    "plt.plot(x, y_2, label = \"degree 2\")\n",
    "plt.plot(x, y_3, label = \"degree 3\")\n",
    "plt.plot(x, y_4, label = \"degree 4\")"
   ]
  },
  {
   "cell_type": "markdown",
   "metadata": {},
   "source": [
    "#### 3.2. Which one takes a bigger value on $x=0$? On $x=2$? On $x=100$?"
   ]
  },
  {
   "cell_type": "code",
   "execution_count": 201,
   "metadata": {},
   "outputs": [],
   "source": [
    "#Recuerdo\n",
    "y_2 = x**2 - 3*x - 10\n",
    "y_3 = x**3 - 2*x**2 + 5*x + 1\n",
    "y_4 = x**4 - x**3 + x**2 - x + 1"
   ]
  },
  {
   "cell_type": "code",
   "execution_count": 41,
   "metadata": {},
   "outputs": [
    {
     "name": "stdout",
     "output_type": "stream",
     "text": [
      "x = 0, y_2 = -10\n",
      "x = 0, y_3 = 1\n",
      "x = 0, y_4 = 1\n"
     ]
    }
   ],
   "source": [
    "from numpy import polyval\n",
    "print(\"x = 0, y_2 =\",polyval([1, -3, -10], 0))\n",
    "print(\"x = 0, y_3 =\",polyval([1, -2, 5, 1], 0))\n",
    "print(\"x = 0, y_4 =\",polyval([1, -1, 1, -1, 1], 0))\n",
    "# Iqual value for y_3 and y_4"
   ]
  },
  {
   "cell_type": "code",
   "execution_count": 40,
   "metadata": {},
   "outputs": [
    {
     "name": "stdout",
     "output_type": "stream",
     "text": [
      "x = 2, y_2 = -12\n",
      "x = 2, y_3 = 11\n",
      "x = 2, y_4 = 11\n"
     ]
    }
   ],
   "source": [
    "print(\"x = 2, y_2 =\",polyval([1, -3, -10], 2))\n",
    "print(\"x = 2, y_3 =\",polyval([1, -2, 5, 1], 2))\n",
    "print(\"x = 2, y_4 =\",polyval([1, -1, 1, -1, 1], 2))\n",
    "# Iqual value for y_3 and y_4"
   ]
  },
  {
   "cell_type": "code",
   "execution_count": 42,
   "metadata": {},
   "outputs": [
    {
     "name": "stdout",
     "output_type": "stream",
     "text": [
      "x = 100, y_2 = 9690\n",
      "x = 100, y_3 = 980501\n",
      "x = 100, y_4 = 99009901\n"
     ]
    }
   ],
   "source": [
    "print(\"x = 100, y_2 =\",polyval([1, -3, -10], 100))\n",
    "print(\"x = 100, y_3 =\",polyval([1, -2, 5, 1], 100))\n",
    "print(\"x = 100, y_4 =\",polyval([1, -1, 1, -1, 1], 100))\n",
    "# Iqual value for y_3 and y_4"
   ]
  },
  {
   "cell_type": "markdown",
   "metadata": {},
   "source": [
    "#### 3.3. Who is the vertex of parabola $y_2$?"
   ]
  },
  {
   "cell_type": "code",
   "execution_count": 210,
   "metadata": {},
   "outputs": [
    {
     "name": "stdout",
     "output_type": "stream",
     "text": [
      "Vertex: ( 1.5 ,  -12.25 )\n"
     ]
    }
   ],
   "source": [
    "def parabola(a, b, c):\n",
    "    print (\"Vertex: (\" , (-b / (2 * a)) , \", \"\n",
    "        ,(((4 * a * c) - (b * b)) / (4 * a)) , \")\" )\n",
    "        \n",
    "# y_2 = x**2 - 3*x - 10  \n",
    "a = 1\n",
    "b = -3\n",
    "c = -10\n",
    "  \n",
    "parabola(a, b, c)"
   ]
  },
  {
   "cell_type": "markdown",
   "metadata": {},
   "source": [
    "#### 3.4. Where does $y_2$ intersect X axis? And Y axis?"
   ]
  },
  {
   "cell_type": "code",
   "execution_count": 218,
   "metadata": {},
   "outputs": [
    {
     "name": "stdout",
     "output_type": "stream",
     "text": [
      "y = -10\n"
     ]
    }
   ],
   "source": [
    "# Intersect y => x = 0\n",
    "print(\"y\", \"=\", polyval([1, -3, -10], 0))"
   ]
  },
  {
   "cell_type": "code",
   "execution_count": 227,
   "metadata": {},
   "outputs": [
    {
     "name": "stdout",
     "output_type": "stream",
     "text": [
      "x = 5.0\n",
      "x = -2.0\n"
     ]
    }
   ],
   "source": [
    "# Intersect x => y = 0\n",
    "#𝑦_2 = x**2 - 3*x - 10\n",
    "# x = (-b+-(b**2-4*a*c)**1/2)/2a\n",
    "x1 = (3+math.sqrt(3**2-4*1*(-10)))/2*1\n",
    "x2 = (3-math.sqrt(3**2-4*1*(-10)))/2*1\n",
    "print(\"x\", \"=\",x1)\n",
    "print(\"x\", \"=\",x2)"
   ]
  },
  {
   "cell_type": "markdown",
   "metadata": {},
   "source": [
    "#### 3.5. As x gets very big, what happens to $y$ go in each case?"
   ]
  },
  {
   "cell_type": "code",
   "execution_count": 217,
   "metadata": {},
   "outputs": [],
   "source": [
    "#Se separan del eje y"
   ]
  },
  {
   "cell_type": "markdown",
   "metadata": {},
   "source": [
    "#### 3.6. As x gets very small (big negative), what happens to $y$ go in each case?"
   ]
  },
  {
   "cell_type": "code",
   "execution_count": null,
   "metadata": {},
   "outputs": [],
   "source": [
    "#Se acercan del eje y"
   ]
  },
  {
   "cell_type": "markdown",
   "metadata": {},
   "source": [
    "### 4. Exponential"
   ]
  },
  {
   "cell_type": "markdown",
   "metadata": {},
   "source": [
    "#### 4.1. Print number $e$ rounded to 3 decimal figures"
   ]
  },
  {
   "cell_type": "code",
   "execution_count": 49,
   "metadata": {},
   "outputs": [
    {
     "data": {
      "text/plain": [
       "2.718"
      ]
     },
     "execution_count": 49,
     "metadata": {},
     "output_type": "execute_result"
    }
   ],
   "source": [
    "round(math.e, 3)"
   ]
  },
  {
   "cell_type": "markdown",
   "metadata": {},
   "source": [
    "#### 4.2. Compute $e$ to the powers 0, 1, 2, 3, 10"
   ]
  },
  {
   "cell_type": "code",
   "execution_count": 83,
   "metadata": {},
   "outputs": [
    {
     "name": "stdout",
     "output_type": "stream",
     "text": [
      "[1.0, 2.718, 7.389, 20.086, 22026.466]\n"
     ]
    }
   ],
   "source": [
    "x = [0,1,2,3,10]\n",
    "expo = [round(math.exp(n),3) for n in x]\n",
    "print(expo)"
   ]
  },
  {
   "cell_type": "markdown",
   "metadata": {},
   "source": [
    "#### 4.3. Compute $e$ to the powers 0, -1, -2, -3, -10"
   ]
  },
  {
   "cell_type": "code",
   "execution_count": 84,
   "metadata": {},
   "outputs": [
    {
     "name": "stdout",
     "output_type": "stream",
     "text": [
      "[1.0, 0.368, 0.135, 0.05, 0.0]\n"
     ]
    }
   ],
   "source": [
    "x = [0,-1,-2,-3,-10]\n",
    "expo = [round(math.exp(n),3) for n in x]\n",
    "print(expo)"
   ]
  },
  {
   "cell_type": "markdown",
   "metadata": {},
   "source": [
    "#### 4.4. Plot functions $e^x$, $e^{2x}$, $e^{-x}$"
   ]
  },
  {
   "cell_type": "markdown",
   "metadata": {},
   "source": [
    "Note: choose an appropiate x-range to visualize them all toguether"
   ]
  },
  {
   "cell_type": "code",
   "execution_count": 172,
   "metadata": {},
   "outputs": [
    {
     "data": {
      "text/plain": [
       "<matplotlib.legend.Legend at 0x136452e4af0>"
      ]
     },
     "execution_count": 172,
     "metadata": {},
     "output_type": "execute_result"
    },
    {
     "data": {
      "image/png": "[encoded data removed]",
      "text/plain": [
       "<Figure size 1440x1440 with 1 Axes>"
      ]
     },
     "metadata": {
      "needs_background": "light"
     },
     "output_type": "display_data"
    }
   ],
   "source": [
    "def design_grid():\n",
    "    fig, ax = plt.subplots(figsize=(20, 20))\n",
    "    ticks = np.arange(-20, 20, 1)\n",
    "    ax.set_xticks(ticks)\n",
    "    ax.set_yticks(ticks)\n",
    "    ax.axhline(y=0)\n",
    "    ax.axvline(x=0)\n",
    "    ax.set_xlim([-20, 20])\n",
    "    ax.set_ylim([-20, 20])\n",
    "    \n",
    "x = np.linspace( start=-10, stop=10, num=300) \n",
    "y1 = np.exp(x) \n",
    "y2 = np.exp(2*x) \n",
    "y3 = np.exp(-x) \n",
    "\n",
    "design_grid()\n",
    "plt.plot(x, y1, \"-\", markersize=2, label=\"y1\") \n",
    "plt.plot(x, y2, \"-\", markersize=2, label=\"y2\") \n",
    "plt.plot(x, y3, \"-\", markersize=2, label=\"y3\") \n",
    "plt.legend()"
   ]
  },
  {
   "cell_type": "markdown",
   "metadata": {},
   "source": [
    "### 5. Sum notation"
   ]
  },
  {
   "cell_type": "markdown",
   "metadata": {},
   "source": [
    "Find the following:"
   ]
  },
  {
   "cell_type": "markdown",
   "metadata": {},
   "source": [
    "$$\\sum_{n=4}^7 n$$"
   ]
  },
  {
   "cell_type": "code",
   "execution_count": 176,
   "metadata": {},
   "outputs": [
    {
     "name": "stdout",
     "output_type": "stream",
     "text": [
      "22\n"
     ]
    }
   ],
   "source": [
    "s = 0\n",
    "for n in range(4, 7+1):\n",
    "    s += n\n",
    "print(s)"
   ]
  },
  {
   "cell_type": "markdown",
   "metadata": {},
   "source": [
    "$$\\sum_{n=-2}^3 (n + 1)$$"
   ]
  },
  {
   "cell_type": "code",
   "execution_count": 180,
   "metadata": {},
   "outputs": [
    {
     "name": "stdout",
     "output_type": "stream",
     "text": [
      "9\n"
     ]
    }
   ],
   "source": [
    "s = 0\n",
    "for n in range(-2, 3+1):\n",
    "    s += n+1\n",
    "print(s)"
   ]
  },
  {
   "cell_type": "markdown",
   "metadata": {},
   "source": [
    "$$\\sum_{n=-2}^3 (n^2 - 2)$$"
   ]
  },
  {
   "cell_type": "code",
   "execution_count": 181,
   "metadata": {},
   "outputs": [
    {
     "name": "stdout",
     "output_type": "stream",
     "text": [
      "7\n"
     ]
    }
   ],
   "source": [
    "s = 0\n",
    "for n in range(-2, 3+1):\n",
    "    s += n**2-2\n",
    "print(s)"
   ]
  },
  {
   "cell_type": "markdown",
   "metadata": {},
   "source": [
    "$$\\sum_{n=0}^4 (10^n - 1)$$"
   ]
  },
  {
   "cell_type": "code",
   "execution_count": 182,
   "metadata": {},
   "outputs": [
    {
     "name": "stdout",
     "output_type": "stream",
     "text": [
      "11106\n"
     ]
    }
   ],
   "source": [
    "s = 0\n",
    "for n in range(0, 4+1):\n",
    "    s += 10**n-1\n",
    "print(s)"
   ]
  },
  {
   "cell_type": "markdown",
   "metadata": {},
   "source": [
    "### 6. Combinatorics"
   ]
  },
  {
   "cell_type": "markdown",
   "metadata": {},
   "source": [
    "#### 6.1. Ten people go to a party. How many handshakes happen?"
   ]
  },
  {
   "cell_type": "code",
   "execution_count": 86,
   "metadata": {},
   "outputs": [
    {
     "name": "stdout",
     "output_type": "stream",
     "text": [
      "45\n"
     ]
    }
   ],
   "source": [
    "def handshakes(i):\n",
    "    if (i == 0):\n",
    "        return 0\n",
    "    else:\n",
    "        return (n - 1) + handshake(n - 1) \n",
    "i = 10\n",
    "print(handshake(n))"
   ]
  },
  {
   "cell_type": "markdown",
   "metadata": {},
   "source": [
    "#### 6.2. My family is composed of 11 members. By christmas, one buys food, one cooks and one cleans. How many possible arrangements of buyer-cooker-cleaner are there?"
   ]
  },
  {
   "cell_type": "code",
   "execution_count": 9,
   "metadata": {},
   "outputs": [
    {
     "name": "stdout",
     "output_type": "stream",
     "text": [
      "(1, 2, 3)\n",
      "(1, 2, 4)\n",
      "(1, 2, 5)\n",
      "(1, 2, 6)\n",
      "(1, 2, 7)\n",
      "(1, 2, 8)\n",
      "(1, 2, 9)\n",
      "(1, 2, 10)\n",
      "(1, 2, 11)\n",
      "(1, 3, 4)\n",
      "(1, 3, 5)\n",
      "(1, 3, 6)\n",
      "(1, 3, 7)\n",
      "(1, 3, 8)\n",
      "(1, 3, 9)\n",
      "(1, 3, 10)\n",
      "(1, 3, 11)\n",
      "(1, 4, 5)\n",
      "(1, 4, 6)\n",
      "(1, 4, 7)\n",
      "(1, 4, 8)\n",
      "(1, 4, 9)\n",
      "(1, 4, 10)\n",
      "(1, 4, 11)\n",
      "(1, 5, 6)\n",
      "(1, 5, 7)\n",
      "(1, 5, 8)\n",
      "(1, 5, 9)\n",
      "(1, 5, 10)\n",
      "(1, 5, 11)\n",
      "(1, 6, 7)\n",
      "(1, 6, 8)\n",
      "(1, 6, 9)\n",
      "(1, 6, 10)\n",
      "(1, 6, 11)\n",
      "(1, 7, 8)\n",
      "(1, 7, 9)\n",
      "(1, 7, 10)\n",
      "(1, 7, 11)\n",
      "(1, 8, 9)\n",
      "(1, 8, 10)\n",
      "(1, 8, 11)\n",
      "(1, 9, 10)\n",
      "(1, 9, 11)\n",
      "(1, 10, 11)\n",
      "(2, 3, 4)\n",
      "(2, 3, 5)\n",
      "(2, 3, 6)\n",
      "(2, 3, 7)\n",
      "(2, 3, 8)\n",
      "(2, 3, 9)\n",
      "(2, 3, 10)\n",
      "(2, 3, 11)\n",
      "(2, 4, 5)\n",
      "(2, 4, 6)\n",
      "(2, 4, 7)\n",
      "(2, 4, 8)\n",
      "(2, 4, 9)\n",
      "(2, 4, 10)\n",
      "(2, 4, 11)\n",
      "(2, 5, 6)\n",
      "(2, 5, 7)\n",
      "(2, 5, 8)\n",
      "(2, 5, 9)\n",
      "(2, 5, 10)\n",
      "(2, 5, 11)\n",
      "(2, 6, 7)\n",
      "(2, 6, 8)\n",
      "(2, 6, 9)\n",
      "(2, 6, 10)\n",
      "(2, 6, 11)\n",
      "(2, 7, 8)\n",
      "(2, 7, 9)\n",
      "(2, 7, 10)\n",
      "(2, 7, 11)\n",
      "(2, 8, 9)\n",
      "(2, 8, 10)\n",
      "(2, 8, 11)\n",
      "(2, 9, 10)\n",
      "(2, 9, 11)\n",
      "(2, 10, 11)\n",
      "(3, 4, 5)\n",
      "(3, 4, 6)\n",
      "(3, 4, 7)\n",
      "(3, 4, 8)\n",
      "(3, 4, 9)\n",
      "(3, 4, 10)\n",
      "(3, 4, 11)\n",
      "(3, 5, 6)\n",
      "(3, 5, 7)\n",
      "(3, 5, 8)\n",
      "(3, 5, 9)\n",
      "(3, 5, 10)\n",
      "(3, 5, 11)\n",
      "(3, 6, 7)\n",
      "(3, 6, 8)\n",
      "(3, 6, 9)\n",
      "(3, 6, 10)\n",
      "(3, 6, 11)\n",
      "(3, 7, 8)\n",
      "(3, 7, 9)\n",
      "(3, 7, 10)\n",
      "(3, 7, 11)\n",
      "(3, 8, 9)\n",
      "(3, 8, 10)\n",
      "(3, 8, 11)\n",
      "(3, 9, 10)\n",
      "(3, 9, 11)\n",
      "(3, 10, 11)\n",
      "(4, 5, 6)\n",
      "(4, 5, 7)\n",
      "(4, 5, 8)\n",
      "(4, 5, 9)\n",
      "(4, 5, 10)\n",
      "(4, 5, 11)\n",
      "(4, 6, 7)\n",
      "(4, 6, 8)\n",
      "(4, 6, 9)\n",
      "(4, 6, 10)\n",
      "(4, 6, 11)\n",
      "(4, 7, 8)\n",
      "(4, 7, 9)\n",
      "(4, 7, 10)\n",
      "(4, 7, 11)\n",
      "(4, 8, 9)\n",
      "(4, 8, 10)\n",
      "(4, 8, 11)\n",
      "(4, 9, 10)\n",
      "(4, 9, 11)\n",
      "(4, 10, 11)\n",
      "(5, 6, 7)\n",
      "(5, 6, 8)\n",
      "(5, 6, 9)\n",
      "(5, 6, 10)\n",
      "(5, 6, 11)\n",
      "(5, 7, 8)\n",
      "(5, 7, 9)\n",
      "(5, 7, 10)\n",
      "(5, 7, 11)\n",
      "(5, 8, 9)\n",
      "(5, 8, 10)\n",
      "(5, 8, 11)\n",
      "(5, 9, 10)\n",
      "(5, 9, 11)\n",
      "(5, 10, 11)\n",
      "(6, 7, 8)\n",
      "(6, 7, 9)\n",
      "(6, 7, 10)\n",
      "(6, 7, 11)\n",
      "(6, 8, 9)\n",
      "(6, 8, 10)\n",
      "(6, 8, 11)\n",
      "(6, 9, 10)\n",
      "(6, 9, 11)\n",
      "(6, 10, 11)\n",
      "(7, 8, 9)\n",
      "(7, 8, 10)\n",
      "(7, 8, 11)\n",
      "(7, 9, 10)\n",
      "(7, 9, 11)\n",
      "(7, 10, 11)\n",
      "(8, 9, 10)\n",
      "(8, 9, 11)\n",
      "(8, 10, 11)\n",
      "(9, 10, 11)\n"
     ]
    }
   ],
   "source": [
    "from itertools import combinations \n",
    "  \n",
    "comb = combinations([1,2,3,4 ,5 ,6,7,8,9,10,11], 3) \n",
    "  \n",
    "for i in list(comb): \n",
    "    print(i)"
   ]
  },
  {
   "cell_type": "code",
   "execution_count": 238,
   "metadata": {},
   "outputs": [
    {
     "name": "stdout",
     "output_type": "stream",
     "text": [
      "165\n"
     ]
    }
   ],
   "source": [
    "import math\n",
    "\n",
    "# Number of items to choose from\n",
    "n = 11\n",
    "\n",
    "# Number of possibilities to choose\n",
    "k = 3\n",
    "\n",
    "# Number of possible combinations\n",
    "print (math.comb(n, k))"
   ]
  },
  {
   "cell_type": "markdown",
   "metadata": {},
   "source": [
    "### BONUS"
   ]
  },
  {
   "cell_type": "markdown",
   "metadata": {},
   "source": [
    "11 and 13 are twin primes, since:\n",
    " - they are both primes  \n",
    " - their distance is 2\n",
    " \n",
    "Find all pairs of twin primes below 1000"
   ]
  },
  {
   "cell_type": "code",
   "execution_count": 262,
   "metadata": {},
   "outputs": [
    {
     "data": {
      "text/plain": [
       "[(3, 5),\n",
       " (5, 7),\n",
       " (7, 11),\n",
       " (11, 13),\n",
       " (13, 17),\n",
       " (17, 19),\n",
       " (19, 23),\n",
       " (23, 29),\n",
       " (29, 31),\n",
       " (31, 37),\n",
       " (37, 41),\n",
       " (41, 43),\n",
       " (43, 47),\n",
       " (47, 53),\n",
       " (53, 59),\n",
       " (59, 61),\n",
       " (61, 67),\n",
       " (67, 71),\n",
       " (71, 73),\n",
       " (73, 79),\n",
       " (79, 83),\n",
       " (83, 89),\n",
       " (89, 97),\n",
       " (97, 101),\n",
       " (101, 103),\n",
       " (103, 107),\n",
       " (107, 109),\n",
       " (109, 113),\n",
       " (113, 127),\n",
       " (127, 131),\n",
       " (131, 137),\n",
       " (137, 139),\n",
       " (139, 149),\n",
       " (149, 151),\n",
       " (151, 157),\n",
       " (157, 163),\n",
       " (163, 167),\n",
       " (167, 173),\n",
       " (173, 179),\n",
       " (179, 181),\n",
       " (181, 191),\n",
       " (191, 193),\n",
       " (193, 197),\n",
       " (197, 199),\n",
       " (199, 211),\n",
       " (211, 223),\n",
       " (223, 227),\n",
       " (227, 229),\n",
       " (229, 233),\n",
       " (233, 239),\n",
       " (239, 241),\n",
       " (241, 251),\n",
       " (251, 257),\n",
       " (257, 263),\n",
       " (263, 269),\n",
       " (269, 271),\n",
       " (271, 277),\n",
       " (277, 281),\n",
       " (281, 283),\n",
       " (283, 293),\n",
       " (293, 307),\n",
       " (307, 311),\n",
       " (311, 313),\n",
       " (313, 317),\n",
       " (317, 331),\n",
       " (331, 337),\n",
       " (337, 347),\n",
       " (347, 349),\n",
       " (349, 353),\n",
       " (353, 359),\n",
       " (359, 367),\n",
       " (367, 373),\n",
       " (373, 379),\n",
       " (379, 383),\n",
       " (383, 389),\n",
       " (389, 397),\n",
       " (397, 401),\n",
       " (401, 409),\n",
       " (409, 419),\n",
       " (419, 421),\n",
       " (421, 431),\n",
       " (431, 433),\n",
       " (433, 439),\n",
       " (439, 443),\n",
       " (443, 449),\n",
       " (449, 457),\n",
       " (457, 461),\n",
       " (461, 463),\n",
       " (463, 467),\n",
       " (467, 479),\n",
       " (479, 487),\n",
       " (487, 491),\n",
       " (491, 499),\n",
       " (499, 503),\n",
       " (503, 509),\n",
       " (509, 521),\n",
       " (521, 523),\n",
       " (523, 541),\n",
       " (541, 547),\n",
       " (547, 557),\n",
       " (557, 563),\n",
       " (563, 569),\n",
       " (569, 571),\n",
       " (571, 577),\n",
       " (577, 587),\n",
       " (587, 593),\n",
       " (593, 599),\n",
       " (599, 601),\n",
       " (601, 607),\n",
       " (607, 613),\n",
       " (613, 617),\n",
       " (617, 619),\n",
       " (619, 631),\n",
       " (631, 641),\n",
       " (641, 643),\n",
       " (643, 647),\n",
       " (647, 653),\n",
       " (653, 659),\n",
       " (659, 661),\n",
       " (661, 673),\n",
       " (673, 677),\n",
       " (677, 683),\n",
       " (683, 691),\n",
       " (691, 701),\n",
       " (701, 709),\n",
       " (709, 719),\n",
       " (719, 727),\n",
       " (727, 733),\n",
       " (733, 739),\n",
       " (739, 743),\n",
       " (743, 751),\n",
       " (751, 757),\n",
       " (757, 761),\n",
       " (761, 769),\n",
       " (769, 773),\n",
       " (773, 787),\n",
       " (787, 797),\n",
       " (797, 809),\n",
       " (809, 811),\n",
       " (811, 821),\n",
       " (821, 823),\n",
       " (823, 827),\n",
       " (827, 829),\n",
       " (829, 839),\n",
       " (839, 853),\n",
       " (853, 857),\n",
       " (857, 859),\n",
       " (859, 863),\n",
       " (863, 877),\n",
       " (877, 881),\n",
       " (881, 883),\n",
       " (883, 887),\n",
       " (887, 907),\n",
       " (907, 911),\n",
       " (911, 919),\n",
       " (919, 929),\n",
       " (929, 937),\n",
       " (937, 941),\n",
       " (941, 947),\n",
       " (947, 953),\n",
       " (953, 967),\n",
       " (967, 971),\n",
       " (971, 977),\n",
       " (977, 983),\n",
       " (983, 991),\n",
       " (991, 997)]"
      ]
     },
     "execution_count": 262,
     "metadata": {},
     "output_type": "execute_result"
    }
   ],
   "source": [
    "def twin(lst, k=2):\n",
    "    return list(zip(*[lst[i:] for i in range(k)])) \n",
    "\n",
    "lst = []\n",
    "for i in range(3, 1001):\n",
    "    if i>1:\n",
    "        for j in range(2,i):\n",
    "            if(i % j==0):\n",
    "                break\n",
    "        else:\n",
    "            lst.append(i)\n",
    "\n",
    "twin(lst,2)"
   ]
  }
 ],
 "metadata": {
  "kernelspec": {
   "display_name": "Python 3",
   "language": "python",
   "name": "python3"
  },
  "language_info": {
   "codemirror_mode": {
    "name": "ipython",
    "version": 3
   },
   "file_extension": ".py",
   "mimetype": "text/x-python",
   "name": "python",
   "nbconvert_exporter": "python",
   "pygments_lexer": "ipython3",
   "version": "3.8.5"
  },
  "toc": {
   "base_numbering": 1,
   "nav_menu": {},
   "number_sections": true,
   "sideBar": true,
   "skip_h1_title": false,
   "title_cell": "Table of Contents",
   "title_sidebar": "Contents",
   "toc_cell": false,
   "toc_position": {},
   "toc_section_display": true,
   "toc_window_display": false
  },
  "varInspector": {
   "cols": {
    "lenName": 16,
    "lenType": 16,
    "lenVar": 40
   },
   "kernels_config": {
    "python": {
     "delete_cmd_postfix": "",
     "delete_cmd_prefix": "del ",
     "library": "var_list.py",
     "varRefreshCmd": "print(var_dic_list())"
    },
    "r": {
     "delete_cmd_postfix": ") ",
     "delete_cmd_prefix": "rm(",
     "library": "var_list.r",
     "varRefreshCmd": "cat(var_dic_list()) "
    }
   },
   "types_to_exclude": [
    "module",
    "function",
    "builtin_function_or_method",
    "instance",
    "_Feature"
   ],
   "window_display": false
  }
 },
 "nbformat": 4,
 "nbformat_minor": 4
}
