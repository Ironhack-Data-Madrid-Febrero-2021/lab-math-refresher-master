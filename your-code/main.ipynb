{
 "cells": [
  {
   "cell_type": "code",
   "execution_count": 1,
   "metadata": {},
   "outputs": [],
   "source": [
    "# Importamos librerías\n",
    "import numpy as np\n",
    "import matplotlib.pyplot as plt"
   ]
  },
  {
   "cell_type": "markdown",
   "metadata": {},
   "source": [
    "### 1. Euclidean plane"
   ]
  },
  {
   "cell_type": "markdown",
   "metadata": {},
   "source": [
    "Consider this 3 points on 2D space:  \n",
    "$A=(4, 5)$  \n",
    "$B=(-2, -4)$  \n",
    "$C=(8, -1)$  "
   ]
  },
  {
   "cell_type": "markdown",
   "metadata": {},
   "source": [
    "#### 1.1. Plot them using `matplotlib`  "
   ]
  },
  {
   "cell_type": "code",
   "execution_count": 30,
   "metadata": {},
   "outputs": [
    {
     "data": {
      "image/png": "[encoded data removed]",
      "text/plain": [
       "<Figure size 432x288 with 1 Axes>"
      ]
     },
     "metadata": {
      "needs_background": "light"
     },
     "output_type": "display_data"
    }
   ],
   "source": [
    "# Assignamos a dos listas, los valores de 'x' y de 'y' respectivamente.\n",
    "x_cordinates = [4, -2, 8]\n",
    "y_cordinates= [5, -4, -1]\n",
    "\n",
    "# Ploteamos los puntos\n",
    "plt.scatter(x_cordinates, y_cordinates);"
   ]
  },
  {
   "cell_type": "markdown",
   "metadata": {},
   "source": [
    "#### 1.2. Which distance is longer, $AC, AB, \\text{or} BC$? Write a function that calculates distance between two points."
   ]
  },
  {
   "cell_type": "code",
   "execution_count": 31,
   "metadata": {},
   "outputs": [
    {
     "name": "stdout",
     "output_type": "stream",
     "text": [
      "As seen below, the minimum distance between the points would be AC\n",
      "AC:  5.656854249492381\n",
      "AB:  10.816653826391969\n",
      "BC:  11.180339887498949\n"
     ]
    }
   ],
   "source": [
    "# Assignamos los puntos a las variables 'a', 'b' y 'c'\n",
    "a = [4,5]\n",
    "b = [-2,-4]\n",
    "c = [8,1]\n",
    "\n",
    "# Creamos una función que con dos puntos, calcule la distancia: \n",
    "#'(((x2-x1)^2 + (y2-y1)^2)^0.5)'\n",
    "\n",
    "def distance (a, b):\n",
    "    return (((b[0] - a[0])**2)+ (b[1] - a[1])**2)**0.5\n",
    "\n",
    "# Printeamos los resultados de las distancias de los segmentos AC, AB y BC\n",
    "print('As seen below, the minimum distance between the points would be AC')\n",
    "print('AC: ',distance(a,c))\n",
    "print('AB: ',distance(a,b))\n",
    "print('BC: ',distance(b,c))\n"
   ]
  },
  {
   "cell_type": "markdown",
   "metadata": {},
   "source": [
    "#### 1.3. What is the perimeter of triangle $ABC$?"
   ]
  },
  {
   "cell_type": "code",
   "execution_count": 4,
   "metadata": {},
   "outputs": [
    {
     "name": "stdout",
     "output_type": "stream",
     "text": [
      "The perimeter of the triangle is:  27.6538479633833\n"
     ]
    }
   ],
   "source": [
    "# Sumando los bordes del triángulo obtemenos el perímetro.\n",
    "print('The perimeter of the triangle is: ', distance(a,c) + distance(a,b) + distance(b,c))"
   ]
  },
  {
   "cell_type": "markdown",
   "metadata": {},
   "source": [
    "### 2. Linear functions"
   ]
  },
  {
   "cell_type": "markdown",
   "metadata": {},
   "source": [
    "Consider the following straight lines on 2D space:  \n",
    "$y_1=2x-3$  \n",
    "$y_2=-3x+12$  "
   ]
  },
  {
   "cell_type": "markdown",
   "metadata": {},
   "source": [
    "#### 2.1. Plot them"
   ]
  },
  {
   "cell_type": "code",
   "execution_count": 5,
   "metadata": {},
   "outputs": [
    {
     "data": {
      "image/png": "[encoded data removed]",
      "text/plain": [
       "<Figure size 432x288 with 1 Axes>"
      ]
     },
     "metadata": {
      "needs_background": "light"
     },
     "output_type": "display_data"
    }
   ],
   "source": [
    "# Assignamos a 'x', 10 valores del 0 al 5\n",
    "x = np.linspace(0,5,10)\n",
    "\n",
    "# Assignamos las 'y' de cada función para poder grafearlo\n",
    "y1 = 2 * x - 3\n",
    "y2 = - 3 * x + 12\n",
    "\n",
    "# Ploteamos ambas funciones\n",
    "plt.plot(x, y1, label = 'y = 2 * x - 3');\n",
    "plt.plot(x, y2, label = 'y = - 3 * x + 12');\n",
    "\n",
    "#Llamamos a la leyenda y al título del gráfico para que quede más claro\n",
    "plt.legend();\n",
    "plt.title('Plot of two equations');"
   ]
  },
  {
   "cell_type": "markdown",
   "metadata": {},
   "source": [
    "#### 2.2. What are the respective slopes"
   ]
  },
  {
   "cell_type": "code",
   "execution_count": 29,
   "metadata": {},
   "outputs": [
    {
     "name": "stdout",
     "output_type": "stream",
     "text": [
      "Y1 SLOPE = 2\n",
      "Y2 SLOPE IS = 3\n"
     ]
    }
   ],
   "source": [
    "# En una función lineal, f(x) = mx + n, m is the slope. \n",
    "print('Y1 SLOPE = 2')\n",
    "print('Y2 SLOPE IS = 3')"
   ]
  },
  {
   "cell_type": "markdown",
   "metadata": {},
   "source": [
    "#### 2.3. Give 3 points through which $y_1$ goes through"
   ]
  },
  {
   "cell_type": "code",
   "execution_count": 7,
   "metadata": {},
   "outputs": [
    {
     "name": "stdout",
     "output_type": "stream",
     "text": [
      "A: (0, -3)     B: (1, -1)     C: (2, 1)\n"
     ]
    }
   ],
   "source": [
    "# Assignamos tres puntos en el eje de abcisas \n",
    "x = [0, 1, 2]\n",
    "# Una lista para mas tarde meter los valores de y\n",
    "y = []\n",
    "\n",
    "#\n",
    "for i in x:\n",
    "    y.append(2*i-3)\n",
    "    \n",
    "a1 = (x[0], y[0])\n",
    "b1 = (x[1], y[1])\n",
    "c1 = (x[2], y[2])\n",
    "\n",
    "print('A:', a1,'    B:', b1,'    C:', c1)"
   ]
  },
  {
   "cell_type": "markdown",
   "metadata": {},
   "source": [
    "#### 2.4. Where do they intersect?"
   ]
  },
  {
   "cell_type": "code",
   "execution_count": 8,
   "metadata": {},
   "outputs": [
    {
     "name": "stdout",
     "output_type": "stream",
     "text": [
      "Intersecion coordinates: ( 3.0 , 3.0 )\n"
     ]
    }
   ],
   "source": [
    "# Sabiendo las pendientes y los orígenes de coordenadas, \n",
    "# podemos calcular los puntos de intersección.\n",
    "m1, b1 = 2, -3\n",
    "m2, b2 = -3, 12\n",
    "xi = (b1-b2)/(m2-m1)\n",
    "yi = m1 * xi + b1\n",
    "print('Intersecion coordinates: (', xi,',', yi,')')"
   ]
  },
  {
   "cell_type": "markdown",
   "metadata": {},
   "source": [
    "#### 2.5. BONUS "
   ]
  },
  {
   "cell_type": "markdown",
   "metadata": {},
   "source": [
    "My yearly salary has increased **linearly** with my age:  \n",
    "When I was 21 years old, I did 10000\\\\$ / year    \n",
    "Today I am 39 years old, I am doing 33400\\\\$ / year  \n",
    "How much will I do when I get 50 years old?"
   ]
  },
  {
   "cell_type": "code",
   "execution_count": 9,
   "metadata": {},
   "outputs": [
    {
     "name": "stdout",
     "output_type": "stream",
     "text": [
      "y =  1300.0 x - 17300.0\n",
      "El salario con 50 años será de  82300.0 dolares/año.\n"
     ]
    }
   ],
   "source": [
    "# Punto A\n",
    "x1, y1 = 21, 10000\n",
    "# Punto B\n",
    "x2, y2 = 39, 33400\n",
    "\n",
    "# M a partir de dos puntos A y B\n",
    "m = (y2 - y1)/(x2 - x1)\n",
    "\n",
    "# N a partir de un punto (x,y) y la pendiente\n",
    "n = m * x1 - y1\n",
    "\n",
    "# Nuestra función\n",
    "print('y = ', m,'x','-',n)\n",
    "\n",
    "# Calculamos y50 a partir de la ecuación lineal para calcular el salario con 50 años.\n",
    "y50 = m * 50 + n\n",
    "print('El salario con 50 años será de ', y50, 'dolares/año.')\n"
   ]
  },
  {
   "cell_type": "markdown",
   "metadata": {},
   "source": [
    "### 3. Polynomials"
   ]
  },
  {
   "cell_type": "markdown",
   "metadata": {},
   "source": [
    "Consider these different degree polynomials:  \n",
    "$y_2=x^2-3x-10$  \n",
    "$y_3=x^3-2x^2+5x+1$  \n",
    "$y_4=x^4-x^3+x^2-x+1$  "
   ]
  },
  {
   "cell_type": "markdown",
   "metadata": {},
   "source": [
    "#### 3.1. Plot them"
   ]
  },
  {
   "cell_type": "code",
   "execution_count": 144,
   "metadata": {},
   "outputs": [
    {
     "data": {
      "image/png": "[encoded data removed]",
      "text/plain": [
       "<Figure size 432x288 with 1 Axes>"
      ]
     },
     "metadata": {
      "needs_background": "light"
     },
     "output_type": "display_data"
    }
   ],
   "source": [
    "x = np.linspace(-5, 5, 1000)\n",
    "y2 = []\n",
    "y3 = []\n",
    "y4 = []\n",
    "\n",
    "\n",
    "# Resolviendo 'y' para la función y2\n",
    "for i in range(len(x)):\n",
    "    y2.append(x[i]**2-3*x[i]-10)\n",
    "    \n",
    " # Resolviendo 'y' para la función y3   \n",
    "for i in range(len(x)):\n",
    "    y3.append(x[i]**3-2*x[i]**2+5*x[i]+1)\n",
    "    \n",
    "# Resolviendo 'y' para la función y4    \n",
    "for i in range(len(x)):\n",
    "    y4.append(x[i]**4-x[i]**3+x[i]**2+1)\n",
    "\n",
    "\n",
    "plt.plot(x, y2, label = 'x^2-3x-10');\n",
    "plt.plot(x, y3, label = 'x^3-2x^2+5+1');\n",
    "plt.plot(x, y4, label = 'x^4-x^3+x^2+1');\n",
    "plt.ylim([-10,10])\n",
    "plt.grid()\n",
    "plt.legend();"
   ]
  },
  {
   "cell_type": "markdown",
   "metadata": {},
   "source": [
    "Consider these different degree polynomials:  \n",
    "$y_2=x^2-3x-10$  \n",
    "$y_3=x^3-2x^2+5x+1$  \n",
    "$y_4=x^4-x^3+x^2-x+1$  "
   ]
  },
  {
   "cell_type": "markdown",
   "metadata": {},
   "source": [
    "#### 3.2. Which one takes a bigger value on $x=0$? On $x=2$? On $x=100$?"
   ]
  },
  {
   "cell_type": "code",
   "execution_count": 142,
   "metadata": {},
   "outputs": [
    {
     "name": "stdout",
     "output_type": "stream",
     "text": [
      "[-10, 1, 1] \n",
      " y3 y y4 pasan por el punto (0,1) por lo que en x = 0 el mayor valor lo toman y3 y y4.\n",
      "[-12, 11, 11] \n",
      " y3 y y4 pasan por el punto (2,11) por lo que en x = 2 el mayor valor lo toman y3 y y4.\n",
      "[9690, 980501, 99009901] \n",
      " y4 pasa por el punto (100,99009901) por lo que en x = 100 el mayor valor lo toma y4.\n"
     ]
    },
    {
     "data": {
      "text/plain": [
       "99009901"
      ]
     },
     "execution_count": 142,
     "metadata": {},
     "output_type": "execute_result"
    }
   ],
   "source": [
    "# Valores en x = 0\n",
    "x = 0 \n",
    "vls0 = []\n",
    "y2 = x**2 -3*x -10\n",
    "y3 = x**3 -2*x**2 +5*x +1\n",
    "y4 = x**4 - x**3 +x**2 -x +1\n",
    "vls0.append(y2)\n",
    "vls0.append(y3)\n",
    "vls0.append(y4)\n",
    "vls0\n",
    "print(vls0,'\\n y3 y y4 pasan por el punto (0,1) por lo que en x = 0 el mayor valor lo toman y3 y y4.')\n",
    "\n",
    "x = 2 \n",
    "vls2 = []\n",
    "y2 = x**2 -3*x -10\n",
    "y3 = x**3 -2*x**2 +5*x +1\n",
    "y4 = x**4 - x**3 +x**2 -x +1\n",
    "vls2.append(y2)\n",
    "vls2.append(y3)\n",
    "vls2.append(y4)\n",
    "vls2\n",
    "print(vls2,'\\n y3 y y4 pasan por el punto (2,11) por lo que en x = 2 el mayor valor lo toman y3 y y4.')\n",
    "\n",
    "x = 100 \n",
    "vls100 = []\n",
    "y2 = x**2 -3*x -10\n",
    "y3 = x**3 -2*x**2 +5*x +1\n",
    "y4 = x**4 - x**3 +x**2 -x +1\n",
    "vls100.append(y2)\n",
    "vls100.append(y3)\n",
    "vls100.append(y4)\n",
    "vls100\n",
    "print(vls100,'\\n y4 pasa por el punto (100,99009901) por lo que en x = 100 el mayor valor lo toma y4.')\n",
    "y4"
   ]
  },
  {
   "cell_type": "markdown",
   "metadata": {},
   "source": [
    "#### 3.3. Who is the vertex of parabola $y_2$?"
   ]
  },
  {
   "cell_type": "code",
   "execution_count": null,
   "metadata": {},
   "outputs": [],
   "source": []
  },
  {
   "cell_type": "markdown",
   "metadata": {},
   "source": [
    "#### 3.4. Where does $y_2$ intersect X axis? And Y axis?"
   ]
  },
  {
   "cell_type": "code",
   "execution_count": null,
   "metadata": {},
   "outputs": [],
   "source": []
  },
  {
   "cell_type": "markdown",
   "metadata": {},
   "source": [
    "#### 3.5. As x gets very big, what happens to $y$ go in each case?"
   ]
  },
  {
   "cell_type": "code",
   "execution_count": null,
   "metadata": {},
   "outputs": [],
   "source": []
  },
  {
   "cell_type": "markdown",
   "metadata": {},
   "source": [
    "#### 3.6. As x gets very small (big negative), what happens to $y$ go in each case?"
   ]
  },
  {
   "cell_type": "code",
   "execution_count": null,
   "metadata": {},
   "outputs": [],
   "source": []
  },
  {
   "cell_type": "markdown",
   "metadata": {},
   "source": [
    "### 4. Exponential"
   ]
  },
  {
   "cell_type": "markdown",
   "metadata": {},
   "source": [
    "#### 4.1. Print number $e$ rounded to 3 decimal figures"
   ]
  },
  {
   "cell_type": "code",
   "execution_count": null,
   "metadata": {},
   "outputs": [],
   "source": []
  },
  {
   "cell_type": "markdown",
   "metadata": {},
   "source": [
    "#### 4.2. Compute $e$ to the powers 0, 1, 2, 3, 10"
   ]
  },
  {
   "cell_type": "code",
   "execution_count": null,
   "metadata": {},
   "outputs": [],
   "source": []
  },
  {
   "cell_type": "markdown",
   "metadata": {},
   "source": [
    "#### 4.3. Compute $e$ to the powers 0, -1, -2, -3, -10"
   ]
  },
  {
   "cell_type": "code",
   "execution_count": null,
   "metadata": {},
   "outputs": [],
   "source": []
  },
  {
   "cell_type": "markdown",
   "metadata": {},
   "source": [
    "#### 4.4. Plot functions $e^x$, $e^{2x}$, $e^{-x}$"
   ]
  },
  {
   "cell_type": "markdown",
   "metadata": {},
   "source": [
    "Note: choose an appropiate x-range to visualize them all toguether"
   ]
  },
  {
   "cell_type": "code",
   "execution_count": null,
   "metadata": {},
   "outputs": [],
   "source": []
  },
  {
   "cell_type": "markdown",
   "metadata": {},
   "source": [
    "### 5. Sum notation"
   ]
  },
  {
   "cell_type": "markdown",
   "metadata": {},
   "source": [
    "Find the following:"
   ]
  },
  {
   "cell_type": "markdown",
   "metadata": {},
   "source": [
    "$$\\sum_{n=4}^7 n$$"
   ]
  },
  {
   "cell_type": "code",
   "execution_count": null,
   "metadata": {},
   "outputs": [],
   "source": []
  },
  {
   "cell_type": "markdown",
   "metadata": {},
   "source": [
    "$$\\sum_{n=-2}^3 (n + 1)$$"
   ]
  },
  {
   "cell_type": "code",
   "execution_count": null,
   "metadata": {},
   "outputs": [],
   "source": []
  },
  {
   "cell_type": "markdown",
   "metadata": {},
   "source": [
    "$$\\sum_{n=-2}^3 (n^2 - 2)$$"
   ]
  },
  {
   "cell_type": "code",
   "execution_count": null,
   "metadata": {},
   "outputs": [],
   "source": []
  },
  {
   "cell_type": "markdown",
   "metadata": {},
   "source": [
    "$$\\sum_{n=0}^4 (10^n - 1)$$"
   ]
  },
  {
   "cell_type": "code",
   "execution_count": null,
   "metadata": {},
   "outputs": [],
   "source": []
  },
  {
   "cell_type": "markdown",
   "metadata": {},
   "source": [
    "### 6. Combinatorics"
   ]
  },
  {
   "cell_type": "markdown",
   "metadata": {},
   "source": [
    "#### 6.1. Ten people go to a party. How many handshakes happen?"
   ]
  },
  {
   "cell_type": "code",
   "execution_count": null,
   "metadata": {},
   "outputs": [],
   "source": []
  },
  {
   "cell_type": "markdown",
   "metadata": {},
   "source": [
    "#### 6.2. My family is composed of 11 members. By christmas, one buys food, one cooks and one cleans. How many possible arrangements of buyer-cooker-cleaner are there?"
   ]
  },
  {
   "cell_type": "code",
   "execution_count": 88,
   "metadata": {},
   "outputs": [
    {
     "data": {
      "text/plain": [
       "2"
      ]
     },
     "execution_count": 88,
     "metadata": {},
     "output_type": "execute_result"
    }
   ],
   "source": []
  },
  {
   "cell_type": "markdown",
   "metadata": {},
   "source": [
    "### BONUS"
   ]
  },
  {
   "cell_type": "markdown",
   "metadata": {},
   "source": [
    "11 and 13 are twin primes, since:\n",
    " - they are both primes  \n",
    " - their distance is 2\n",
    " \n",
    "Find all pairs of twin primes below 1000"
   ]
  },
  {
   "cell_type": "code",
   "execution_count": 98,
   "metadata": {},
   "outputs": [
    {
     "data": {
      "text/plain": [
       "{2,\n",
       " 3,\n",
       " 5,\n",
       " 7,\n",
       " 11,\n",
       " 13,\n",
       " 17,\n",
       " 19,\n",
       " 23,\n",
       " 29,\n",
       " 31,\n",
       " 37,\n",
       " 41,\n",
       " 43,\n",
       " 47,\n",
       " 53,\n",
       " 59,\n",
       " 61,\n",
       " 67,\n",
       " 71,\n",
       " 73,\n",
       " 79,\n",
       " 83,\n",
       " 89,\n",
       " 97}"
      ]
     },
     "execution_count": 98,
     "metadata": {},
     "output_type": "execute_result"
    }
   ],
   "source": [
    "primes = []\n",
    "for x in range(2,101):\n",
    "    if all(x%i!=0 for i in range(2,x)):\n",
    "        primes.append(x)\n",
    "\n",
    "x = []        \n",
    "for num in primes:\n",
    "    for i in primes:\n",
    "        if num - i < 2:\n",
    "            x.append(num)\n",
    "set(x)"
   ]
  }
 ],
 "metadata": {
  "kernelspec": {
   "display_name": "Python 3",
   "language": "python",
   "name": "python3"
  },
  "language_info": {
   "codemirror_mode": {
    "name": "ipython",
    "version": 3
   },
   "file_extension": ".py",
   "mimetype": "text/x-python",
   "name": "python",
   "nbconvert_exporter": "python",
   "pygments_lexer": "ipython3",
   "version": "3.6.3"
  },
  "toc": {
   "base_numbering": 1,
   "nav_menu": {},
   "number_sections": true,
   "sideBar": true,
   "skip_h1_title": false,
   "title_cell": "Table of Contents",
   "title_sidebar": "Contents",
   "toc_cell": false,
   "toc_position": {},
   "toc_section_display": true,
   "toc_window_display": false
  },
  "varInspector": {
   "cols": {
    "lenName": 16,
    "lenType": 16,
    "lenVar": 40
   },
   "kernels_config": {
    "python": {
     "delete_cmd_postfix": "",
     "delete_cmd_prefix": "del ",
     "library": "var_list.py",
     "varRefreshCmd": "print(var_dic_list())"
    },
    "r": {
     "delete_cmd_postfix": ") ",
     "delete_cmd_prefix": "rm(",
     "library": "var_list.r",
     "varRefreshCmd": "cat(var_dic_list()) "
    }
   },
   "types_to_exclude": [
    "module",
    "function",
    "builtin_function_or_method",
    "instance",
    "_Feature"
   ],
   "window_display": false
  }
 },
 "nbformat": 4,
 "nbformat_minor": 4
}
