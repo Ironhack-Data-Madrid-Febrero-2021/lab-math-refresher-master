{
 "cells": [
  {
   "cell_type": "code",
   "execution_count": 1,
   "metadata": {},
   "outputs": [],
   "source": [
    "import numpy as np\n",
    "import math\n",
    "from sklearn.metrics.pairwise import euclidean_distances\n",
    "import matplotlib.pyplot as plt \n",
    "import numpy as np"
   ]
  },
  {
   "cell_type": "markdown",
   "metadata": {},
   "source": [
    "### 1. Euclidean plane"
   ]
  },
  {
   "cell_type": "markdown",
   "metadata": {},
   "source": [
    "Consider this 3 points on 2D space:  \n",
    "$A=(4, 5)$  \n",
    "$B=(-2, -4)$  \n",
    "$C=(8, -1)$  "
   ]
  },
  {
   "cell_type": "markdown",
   "metadata": {},
   "source": [
    "#### 1.1. Plot them using `matplotlib`  "
   ]
  },
  {
   "cell_type": "code",
   "execution_count": 2,
   "metadata": {},
   "outputs": [
    {
     "data": {
      "text/plain": [
       "<matplotlib.collections.PathCollection at 0x1c53045ad60>"
      ]
     },
     "execution_count": 2,
     "metadata": {},
     "output_type": "execute_result"
    },
    {
     "data": {
      "image/png": "[encoded data removed]",
      "text/plain": [
       "<Figure size 432x288 with 1 Axes>"
      ]
     },
     "metadata": {
      "needs_background": "light"
     },
     "output_type": "display_data"
    }
   ],
   "source": [
    "A = (4,5)\n",
    "B = (-2,-4)\n",
    "C= (8,-1)\n",
    "fig, ax=plt.subplots()\n",
    "ax.scatter([4,-2,8],[5,-4,-1])"
   ]
  },
  {
   "cell_type": "code",
   "execution_count": 3,
   "metadata": {},
   "outputs": [
    {
     "data": {
      "text/plain": [
       "<matplotlib.collections.PathCollection at 0x1c530517310>"
      ]
     },
     "execution_count": 3,
     "metadata": {},
     "output_type": "execute_result"
    },
    {
     "data": {
      "image/png": "[encoded data removed]",
      "text/plain": [
       "<Figure size 432x288 with 1 Axes>"
      ]
     },
     "metadata": {
      "needs_background": "light"
     },
     "output_type": "display_data"
    }
   ],
   "source": [
    "A = (4,5)\n",
    "B = (-2,-4)\n",
    "C= (8,-1)\n",
    "fig, ax=plt.subplots()\n",
    "ax.scatter(A[0],A[1])\n",
    "ax.scatter(B[0],B[1])\n",
    "ax.scatter(C[0],B[1])"
   ]
  },
  {
   "cell_type": "markdown",
   "metadata": {},
   "source": [
    "#### 1.2. Which distance is longer, $AC, AB, \\text{or} BC$? Write a function that calculates distance between two points."
   ]
  },
  {
   "cell_type": "code",
   "execution_count": 4,
   "metadata": {},
   "outputs": [
    {
     "ename": "SyntaxError",
     "evalue": "invalid character in identifier (<ipython-input-4-edbad8c906b2>, line 2)",
     "output_type": "error",
     "traceback": [
      "\u001b[1;36m  File \u001b[1;32m\"<ipython-input-4-edbad8c906b2>\"\u001b[1;36m, line \u001b[1;32m2\u001b[0m\n\u001b[1;33m    𝐵=(−2,−4)\u001b[0m\n\u001b[1;37m        ^\u001b[0m\n\u001b[1;31mSyntaxError\u001b[0m\u001b[1;31m:\u001b[0m invalid character in identifier\n"
     ]
    }
   ],
   "source": [
    "𝐴=(4,5)\n",
    "𝐵=(−2,−4)\n",
    "𝐶=(8,−1)"
   ]
  },
  {
   "cell_type": "code",
   "execution_count": 5,
   "metadata": {},
   "outputs": [
    {
     "name": "stdout",
     "output_type": "stream",
     "text": [
      "Enter the first point A\n",
      "4 5\n",
      "Enter the second point B\n",
      "-2 -4\n",
      "The Euclidean Distance AB is 10.816653826391969\n"
     ]
    }
   ],
   "source": [
    "#A=4 5\n",
    "#B= -2 -4\n",
    "print(\"Enter the first point A\")\n",
    "x1, y1 = map(int, input().split())\n",
    "print(\"Enter the second point B\")\n",
    "x2, y2 = map(int, input().split())\n",
    "dist = math.sqrt((x2-x1)**2 + (y2-y1)**2)\n",
    "print(\"The Euclidean Distance AB is \" + str(dist))"
   ]
  },
  {
   "cell_type": "code",
   "execution_count": 6,
   "metadata": {},
   "outputs": [
    {
     "name": "stdout",
     "output_type": "stream",
     "text": [
      "Enter the first point A\n",
      "4 5\n",
      "Enter the second point C\n",
      "8 -1\n",
      "The Euclidean Distance AC is 7.211102550927978\n"
     ]
    }
   ],
   "source": [
    "#A=4 5\n",
    "#C=8 -1\n",
    "print(\"Enter the first point A\")\n",
    "x1, y1 = map(int, input().split())\n",
    "print(\"Enter the second point C\")\n",
    "x2, y2 = map(int, input().split())\n",
    "dist = math.sqrt((x2-x1)**2 + (y2-y1)**2)\n",
    "print(\"The Euclidean Distance AC is \" + str(dist))"
   ]
  },
  {
   "cell_type": "code",
   "execution_count": 7,
   "metadata": {},
   "outputs": [
    {
     "name": "stdout",
     "output_type": "stream",
     "text": [
      "Enter the first point B\n",
      "-2 -4\n",
      "Enter the second point C\n",
      "8 -1\n",
      "The Euclidean Distance BC is 10.44030650891055\n"
     ]
    }
   ],
   "source": [
    "#𝐵=−2 −4\n",
    "#C=8 -1\n",
    "print(\"Enter the first point B\")\n",
    "x1, y1 = map(int, input().split())\n",
    "print(\"Enter the second point C\")\n",
    "x2, y2 = map(int, input().split())\n",
    "dist = math.sqrt((x2-x1)**2 + (y2-y1)**2)\n",
    "print(\"The Euclidean Distance BC is \" + str(dist))"
   ]
  },
  {
   "cell_type": "markdown",
   "metadata": {},
   "source": [
    "#### 1.3. What is the perimeter of triangle $ABC$?"
   ]
  },
  {
   "cell_type": "code",
   "execution_count": 8,
   "metadata": {},
   "outputs": [],
   "source": [
    "#𝐴=(4,5)\n",
    "#𝐵=(−2,−4)\n",
    "#𝐶=(8,−1)\n",
    "\n",
    "x1=4\n",
    "x2=-2\n",
    "x3=8\n",
    "y1=5\n",
    "y2=-4\n",
    "y3=-1"
   ]
  },
  {
   "cell_type": "code",
   "execution_count": 9,
   "metadata": {},
   "outputs": [],
   "source": [
    "# point A 4 5 /second point B -2 -4 \n",
    "#AB=(math.sqrt((-2-4)**2 + (-4-5)**2))\n",
    "AB=(math.sqrt((x2-x1)**2 + (y2-y1)**2))\n",
    "\n",
    "# point A 4 5 /second point C 8 -1 \n",
    "#AC=(math.sqrt((8-4)**2 + (-1 -5)**2))\n",
    "AC=(math.sqrt((x3-x1)**2 + (y3-y1)**2))\n",
    "\n",
    "# point B -2 -4 /second point C 8 -1 \n",
    "#BC=(math.sqrt((8+4)**2 + (-1 +4)**2))\n",
    "BC=(math.sqrt((x3-x2)**2 + (y3-y2)**2))"
   ]
  },
  {
   "cell_type": "code",
   "execution_count": 10,
   "metadata": {},
   "outputs": [
    {
     "name": "stdout",
     "output_type": "stream",
     "text": [
      "10.816653826391969\n",
      "7.211102550927978\n",
      "10.44030650891055\n"
     ]
    }
   ],
   "source": [
    "print(AB)\n",
    "print(AC)\n",
    "print(BC)"
   ]
  },
  {
   "cell_type": "code",
   "execution_count": 11,
   "metadata": {},
   "outputs": [
    {
     "name": "stdout",
     "output_type": "stream",
     "text": [
      "perimeter is: 28.4680628862305\n"
     ]
    }
   ],
   "source": [
    "perimeter=AB+AC+BC\n",
    "print(\"perimeter is:\", perimeter)"
   ]
  },
  {
   "cell_type": "markdown",
   "metadata": {},
   "source": [
    "### 2. Linear functions"
   ]
  },
  {
   "cell_type": "markdown",
   "metadata": {},
   "source": [
    "Consider the following straight lines on 2D space:  \n",
    "$y_1=2x-3$  \n",
    "$y_2=-3x+12$  "
   ]
  },
  {
   "cell_type": "markdown",
   "metadata": {},
   "source": [
    "#### 2.1. Plot them"
   ]
  },
  {
   "cell_type": "code",
   "execution_count": 13,
   "metadata": {},
   "outputs": [],
   "source": [
    "x = np.random.random([8,30]) \n",
    "x1 = x[0, :] \n",
    "x2 = x[1, :] "
   ]
  },
  {
   "cell_type": "code",
   "execution_count": 14,
   "metadata": {},
   "outputs": [
    {
     "data": {
      "text/plain": [
       "[<matplotlib.lines.Line2D at 0x1c530577d30>]"
      ]
     },
     "execution_count": 14,
     "metadata": {},
     "output_type": "execute_result"
    },
    {
     "data": {
      "image/png": "[encoded data removed]",
      "text/plain": [
       "<Figure size 432x288 with 1 Axes>"
      ]
     },
     "metadata": {
      "needs_background": "light"
     },
     "output_type": "display_data"
    }
   ],
   "source": [
    "# sort the data so it makes clean curves \n",
    "x1.sort() \n",
    "x2.sort() \n",
    "    \n",
    "y1 = 2*x1 - 3\n",
    "y2 = -3*x2 +12    \n",
    "\n",
    "plt.plot(x1, y1, color ='tab:blue') \n",
    "plt.plot(x2, y2, color ='tab:orange') "
   ]
  },
  {
   "cell_type": "markdown",
   "metadata": {},
   "source": [
    "#### 2.2. What are the respective slopes"
   ]
  },
  {
   "cell_type": "code",
   "execution_count": 15,
   "metadata": {},
   "outputs": [
    {
     "name": "stdout",
     "output_type": "stream",
     "text": [
      "[0.06785804 0.10768412 0.11954362 0.20253981 0.22781452 0.24215607\n",
      " 0.27049786 0.28163514 0.2887268  0.28971363 0.31193648 0.31657523\n",
      " 0.37220185 0.40697724 0.55201523 0.60044117 0.61892646 0.65392793\n",
      " 0.65716117 0.74297123 0.7646683  0.79349257 0.79904298 0.81170847\n",
      " 0.81599135 0.86600576 0.88361334 0.89867175 0.93475679 0.95064384]\n",
      "[0.0107906  0.07679204 0.09054731 0.1097831  0.12237827 0.14104541\n",
      " 0.15593069 0.20169141 0.31085465 0.33158915 0.42098245 0.43779294\n",
      " 0.49248673 0.5398456  0.59407795 0.60190783 0.69179307 0.75770933\n",
      " 0.76546404 0.76942541 0.78780803 0.79269437 0.82552039 0.84737228\n",
      " 0.86946056 0.87053343 0.87230225 0.93546394 0.93711282 0.94015362]\n"
     ]
    }
   ],
   "source": [
    "#slope=(y2-y1)/(x2-x1)\n",
    "print(x1)\n",
    "print(x2)"
   ]
  },
  {
   "cell_type": "code",
   "execution_count": 16,
   "metadata": {},
   "outputs": [
    {
     "name": "stdout",
     "output_type": "stream",
     "text": [
      "[-2.86428392 -2.78463176 -2.76091276 -2.59492038 -2.54437095 -2.51568786\n",
      " -2.45900429 -2.43672972 -2.4225464  -2.42057274 -2.37612704 -2.36684955\n",
      " -2.25559629 -2.18604552 -1.89596955 -1.79911766 -1.76214709 -1.69214414\n",
      " -1.68567766 -1.51405754 -1.47066339 -1.41301486 -1.40191404 -1.37658305\n",
      " -1.36801729 -1.26798848 -1.23277332 -1.20265649 -1.13048641 -1.09871231]\n",
      "[11.96762821 11.76962387 11.72835807 11.6706507  11.6328652  11.57686378\n",
      " 11.53220794 11.39492577 11.06743606 11.00523256 10.73705266 10.68662117\n",
      " 10.52253981 10.38046319 10.21776616 10.19427652  9.9246208   9.72687201\n",
      "  9.70360789  9.69172378  9.6365759   9.62191689  9.52343884  9.45788317\n",
      "  9.39161831  9.38839972  9.38309324  9.19360818  9.18866154  9.17953913]\n"
     ]
    }
   ],
   "source": [
    "print(y1)\n",
    "print(y2)"
   ]
  },
  {
   "cell_type": "code",
   "execution_count": 17,
   "metadata": {},
   "outputs": [
    {
     "data": {
      "text/plain": [
       "array([2., 2., 2., 2., 2., 2., 2., 2., 2., 2., 2., 2., 2., 2., 2., 2., 2.,\n",
       "       2., 2., 2., 2., 2., 2., 2., 2., 2., 2., 2., 2.])"
      ]
     },
     "execution_count": 17,
     "metadata": {},
     "output_type": "execute_result"
    }
   ],
   "source": [
    "lista = []\n",
    "for i in range(len(x1)-1):\n",
    "    dy = (y1[i+1]-y1[i]) / (x1[i+1] - x1[i])\n",
    "    lista.append(dy)\n",
    "pendiente = np.asarray(lista)\n",
    "pendiente"
   ]
  },
  {
   "cell_type": "markdown",
   "metadata": {},
   "source": [
    "#### 2.3. Give 3 points through which $y_1$ goes through"
   ]
  },
  {
   "cell_type": "code",
   "execution_count": 18,
   "metadata": {},
   "outputs": [
    {
     "name": "stdout",
     "output_type": "stream",
     "text": [
      "[ 0.06785804 -2.86428392]\n",
      "[ 0.10768412 -2.78463176]\n",
      "[ 0.11954362 -2.76091276]\n"
     ]
    }
   ],
   "source": [
    "y1_point1=np.append(x1[0], y1[0])\n",
    "print(y1_point1)\n",
    "y1_point2=np.append(x1[1], y1[1])\n",
    "print(y1_point2)\n",
    "y1_point3=np.append(x1[2], y1[2])\n",
    "print(y1_point3)"
   ]
  },
  {
   "cell_type": "markdown",
   "metadata": {},
   "source": [
    "#### 2.4. Where do they intersect?"
   ]
  },
  {
   "cell_type": "markdown",
   "metadata": {},
   "source": [
    "Consider the following straight lines on 2D space:\n",
    "𝑦1=2𝑥−3 \n",
    "𝑦2=−3𝑥+12"
   ]
  },
  {
   "cell_type": "code",
   "execution_count": 53,
   "metadata": {},
   "outputs": [
    {
     "name": "stdout",
     "output_type": "stream",
     "text": [
      "[]\n"
     ]
    }
   ],
   "source": [
    "import sympy as sym\n",
    "x=sym.Symbol('x')\n",
    "resultado = sym.solve([2*x-3,-3*x+12], x)\n",
    "print(resp)"
   ]
  },
  {
   "cell_type": "markdown",
   "metadata": {},
   "source": [
    "### Igualamos las ecuaciones de las rectas:"
   ]
  },
  {
   "cell_type": "code",
   "execution_count": 66,
   "metadata": {},
   "outputs": [
    {
     "ename": "SyntaxError",
     "evalue": "cannot assign to operator (<ipython-input-66-f8cbf641b27b>, line 1)",
     "output_type": "error",
     "traceback": [
      "\u001b[1;36m  File \u001b[1;32m\"<ipython-input-66-f8cbf641b27b>\"\u001b[1;36m, line \u001b[1;32m1\u001b[0m\n\u001b[1;33m    2*x-3=-3*x+12\u001b[0m\n\u001b[1;37m    ^\u001b[0m\n\u001b[1;31mSyntaxError\u001b[0m\u001b[1;31m:\u001b[0m cannot assign to operator\n"
     ]
    }
   ],
   "source": [
    "2*x-3=-3*x+12\n",
    "\n"
   ]
  },
  {
   "cell_type": "markdown",
   "metadata": {},
   "source": [
    "#### 2.5. BONUS "
   ]
  },
  {
   "cell_type": "markdown",
   "metadata": {},
   "source": [
    "#### My yearly salary has increased **linearly** with my age:  \n",
    "When I was 21 years old, I did 10000\\\\$ / year    \n",
    "Today I am 39 years old, I am doing 33400\\\\$ / year  \n",
    "How much will I do when I get 50 years old?"
   ]
  },
  {
   "cell_type": "code",
   "execution_count": 19,
   "metadata": {},
   "outputs": [
    {
     "data": {
      "text/plain": [
       "1.0692937439562802"
      ]
     },
     "execution_count": 19,
     "metadata": {},
     "output_type": "execute_result"
    }
   ],
   "source": [
    "#VARIABLES\n",
    "t=39-21\n",
    "salary1=10000\n",
    "final_salary=33400\n",
    "grown_rate=np.power((final_salary/salary1),(1/t))\n",
    "grown_rate"
   ]
  },
  {
   "cell_type": "code",
   "execution_count": 20,
   "metadata": {},
   "outputs": [
    {
     "data": {
      "text/plain": [
       "11"
      ]
     },
     "execution_count": 20,
     "metadata": {},
     "output_type": "execute_result"
    }
   ],
   "source": [
    "#VARIABLES 2\n",
    "Year1=39\n",
    "Year2=50\n",
    "t2=Year2-Year1\n",
    "t2"
   ]
  },
  {
   "cell_type": "code",
   "execution_count": 25,
   "metadata": {},
   "outputs": [
    {
     "name": "stdout",
     "output_type": "stream",
     "text": [
      "Salary with 50 years old:  69793.0  $\n"
     ]
    }
   ],
   "source": [
    "S1=33400\n",
    "s_final=round(S1*(np.power(grown_rate,(t2))))\n",
    "print(\"Salary with 50 years old: \", s_final, \" $\")"
   ]
  },
  {
   "cell_type": "markdown",
   "metadata": {},
   "source": [
    "### 3. Polynomials"
   ]
  },
  {
   "cell_type": "markdown",
   "metadata": {},
   "source": [
    "### Consider these different degree polynomials:  \n",
    "$y_2=x^2-3x-10$  \n",
    "$y_3=x^3-2x^2+5x+1$  \n",
    "$y_4=x^4-x^3+x^2-x+1$  "
   ]
  },
  {
   "cell_type": "markdown",
   "metadata": {},
   "source": [
    "#### 3.1. Plot them"
   ]
  },
  {
   "cell_type": "code",
   "execution_count": 39,
   "metadata": {},
   "outputs": [
    {
     "data": {
      "text/plain": [
       "[<matplotlib.lines.Line2D at 0x1c5319fc4c0>]"
      ]
     },
     "execution_count": 39,
     "metadata": {},
     "output_type": "execute_result"
    },
    {
     "data": {
      "image/png": "[encoded data removed]",
      "text/plain": [
       "<Figure size 432x288 with 1 Axes>"
      ]
     },
     "metadata": {
      "needs_background": "light"
     },
     "output_type": "display_data"
    }
   ],
   "source": [
    "# create 1000 equally spaced points between -10 and 10\n",
    "x = np.linspace(-10, 10, 1000)\n",
    "\n",
    "# calculate the y value for each element of the x vector\n",
    "y2 = x**2-3*x-10  \n",
    "y3 = x**3-2*x**2+5*x+1\n",
    "y4 = x**4-x**3+x**2-x+1\n",
    "\n",
    "fig, ax = plt.subplots()\n",
    "ax.plot(x, y2)\n",
    "ax.plot(x, y3)\n",
    "ax.plot(x, y4)"
   ]
  },
  {
   "cell_type": "markdown",
   "metadata": {},
   "source": [
    "#### 3.2. Which one takes a bigger value on $x=0$? On $x=2$? On $x=100$?"
   ]
  },
  {
   "cell_type": "code",
   "execution_count": null,
   "metadata": {},
   "outputs": [],
   "source": [
    "#VARIABLES\n",
    "x2=0\n",
    "x3=0\n",
    "x4=0\n",
    "y2=x2**2-3*x2-10 \n",
    "y3=x3**3-2*x3**2+5*x3+1\n",
    "y4=x4**4-x4**3+x4**2-x4+1"
   ]
  },
  {
   "cell_type": "code",
   "execution_count": 27,
   "metadata": {},
   "outputs": [
    {
     "name": "stdout",
     "output_type": "stream",
     "text": [
      "y2  -10\n",
      "y3  1\n",
      "y4  1\n"
     ]
    }
   ],
   "source": [
    "print(\"y2 \", y2)\n",
    "print(\"y3 \",y3)\n",
    "print(\"y4 \", y4)"
   ]
  },
  {
   "cell_type": "markdown",
   "metadata": {},
   "source": [
    "#### 3.3. Who is the vertex of parabola $y_2$?"
   ]
  },
  {
   "cell_type": "code",
   "execution_count": 49,
   "metadata": {},
   "outputs": [
    {
     "data": {
      "text/plain": [
       "[<matplotlib.lines.Line2D at 0x1c532de52e0>]"
      ]
     },
     "execution_count": 49,
     "metadata": {},
     "output_type": "execute_result"
    },
    {
     "data": {
      "image/png": "[encoded data removed]",
      "text/plain": [
       "<Figure size 432x288 with 1 Axes>"
      ]
     },
     "metadata": {
      "needs_background": "light"
     },
     "output_type": "display_data"
    }
   ],
   "source": [
    "x = np.linspace(-10, 10, 1000)\n",
    "y2 = x**2-3*x-10  \n",
    "fig, ax = plt.subplots()\n",
    "ax.plot(x, y2)\n"
   ]
  },
  {
   "cell_type": "markdown",
   "metadata": {},
   "source": [
    "### y = ax2 + bx + c> fórmula VERTICE = -b/2a"
   ]
  },
  {
   "cell_type": "code",
   "execution_count": 56,
   "metadata": {},
   "outputs": [],
   "source": [
    "#𝑦2=𝑥2−3𝑥−10 \n",
    "#variables\n",
    "y2=x2**2-3*x2-10\n",
    "b=-3\n",
    "a=1"
   ]
  },
  {
   "cell_type": "code",
   "execution_count": 61,
   "metadata": {},
   "outputs": [
    {
     "name": "stdout",
     "output_type": "stream",
     "text": [
      "x vertice:  1.5\n",
      "y vertice:  -12.25\n"
     ]
    }
   ],
   "source": [
    "vertice_x=-1*b/2*a\n",
    "\n",
    "vertice_y=vertice_x**2-vertice_x*3-10\n",
    "\n",
    "print(\"x vertice: \", vertice_x)\n",
    "print(\"y vertice: \", vertice_y)"
   ]
  },
  {
   "cell_type": "markdown",
   "metadata": {},
   "source": [
    "#### 3.4. Where does $y_2$ intersect X axis? And Y axis?"
   ]
  },
  {
   "cell_type": "code",
   "execution_count": 65,
   "metadata": {},
   "outputs": [],
   "source": [
    "y2=x2**2-3*x2-10\n",
    "x=0 \n",
    "y2=-10"
   ]
  },
  {
   "cell_type": "markdown",
   "metadata": {},
   "source": [
    "#### 3.5. As x gets very big, what happens to $y$ go in each case?"
   ]
  },
  {
   "cell_type": "code",
   "execution_count": null,
   "metadata": {},
   "outputs": [],
   "source": []
  },
  {
   "cell_type": "markdown",
   "metadata": {},
   "source": [
    "#### 3.6. As x gets very small (big negative), what happens to $y$ go in each case?"
   ]
  },
  {
   "cell_type": "code",
   "execution_count": null,
   "metadata": {},
   "outputs": [],
   "source": []
  },
  {
   "cell_type": "markdown",
   "metadata": {},
   "source": [
    "### 4. Exponential"
   ]
  },
  {
   "cell_type": "markdown",
   "metadata": {},
   "source": [
    "#### 4.1. Print number $e$ rounded to 3 decimal figures"
   ]
  },
  {
   "cell_type": "code",
   "execution_count": null,
   "metadata": {},
   "outputs": [],
   "source": []
  },
  {
   "cell_type": "markdown",
   "metadata": {},
   "source": [
    "#### 4.2. Compute $e$ to the powers 0, 1, 2, 3, 10"
   ]
  },
  {
   "cell_type": "code",
   "execution_count": null,
   "metadata": {},
   "outputs": [],
   "source": []
  },
  {
   "cell_type": "markdown",
   "metadata": {},
   "source": [
    "#### 4.3. Compute $e$ to the powers 0, -1, -2, -3, -10"
   ]
  },
  {
   "cell_type": "code",
   "execution_count": null,
   "metadata": {},
   "outputs": [],
   "source": []
  },
  {
   "cell_type": "markdown",
   "metadata": {},
   "source": [
    "#### 4.4. Plot functions $e^x$, $e^{2x}$, $e^{-x}$"
   ]
  },
  {
   "cell_type": "markdown",
   "metadata": {},
   "source": [
    "Note: choose an appropiate x-range to visualize them all toguether"
   ]
  },
  {
   "cell_type": "code",
   "execution_count": null,
   "metadata": {},
   "outputs": [],
   "source": []
  },
  {
   "cell_type": "markdown",
   "metadata": {},
   "source": [
    "### 5. Sum notation"
   ]
  },
  {
   "cell_type": "markdown",
   "metadata": {},
   "source": [
    "Find the following:"
   ]
  },
  {
   "cell_type": "markdown",
   "metadata": {},
   "source": [
    "$$\\sum_{n=4}^7 n$$"
   ]
  },
  {
   "cell_type": "code",
   "execution_count": null,
   "metadata": {},
   "outputs": [],
   "source": []
  },
  {
   "cell_type": "markdown",
   "metadata": {},
   "source": [
    "$$\\sum_{n=-2}^3 (n + 1)$$"
   ]
  },
  {
   "cell_type": "code",
   "execution_count": null,
   "metadata": {},
   "outputs": [],
   "source": []
  },
  {
   "cell_type": "markdown",
   "metadata": {},
   "source": [
    "$$\\sum_{n=-2}^3 (n^2 - 2)$$"
   ]
  },
  {
   "cell_type": "code",
   "execution_count": null,
   "metadata": {},
   "outputs": [],
   "source": []
  },
  {
   "cell_type": "markdown",
   "metadata": {},
   "source": [
    "$$\\sum_{n=0}^4 (10^n - 1)$$"
   ]
  },
  {
   "cell_type": "code",
   "execution_count": null,
   "metadata": {},
   "outputs": [],
   "source": []
  },
  {
   "cell_type": "markdown",
   "metadata": {},
   "source": [
    "### 6. Combinatorics"
   ]
  },
  {
   "cell_type": "markdown",
   "metadata": {},
   "source": [
    "#### 6.1. Ten people go to a party. How many handshakes happen?"
   ]
  },
  {
   "cell_type": "code",
   "execution_count": null,
   "metadata": {},
   "outputs": [],
   "source": []
  },
  {
   "cell_type": "markdown",
   "metadata": {},
   "source": [
    "#### 6.2. My family is composed of 11 members. By christmas, one buys food, one cooks and one cleans. How many possible arrangements of buyer-cooker-cleaner are there?"
   ]
  },
  {
   "cell_type": "code",
   "execution_count": null,
   "metadata": {},
   "outputs": [],
   "source": []
  },
  {
   "cell_type": "markdown",
   "metadata": {},
   "source": [
    "### BONUS"
   ]
  },
  {
   "cell_type": "markdown",
   "metadata": {},
   "source": [
    "11 and 13 are twin primes, since:\n",
    " - they are both primes  \n",
    " - their distance is 2\n",
    " \n",
    "Find all pairs of twin primes below 1000"
   ]
  },
  {
   "cell_type": "code",
   "execution_count": null,
   "metadata": {},
   "outputs": [],
   "source": []
  }
 ],
 "metadata": {
  "kernelspec": {
   "display_name": "Python 3",
   "language": "python",
   "name": "python3"
  },
  "language_info": {
   "codemirror_mode": {
    "name": "ipython",
    "version": 3
   },
   "file_extension": ".py",
   "mimetype": "text/x-python",
   "name": "python",
   "nbconvert_exporter": "python",
   "pygments_lexer": "ipython3",
   "version": "3.8.3"
  },
  "toc": {
   "base_numbering": 1,
   "nav_menu": {},
   "number_sections": true,
   "sideBar": true,
   "skip_h1_title": false,
   "title_cell": "Table of Contents",
   "title_sidebar": "Contents",
   "toc_cell": false,
   "toc_position": {},
   "toc_section_display": true,
   "toc_window_display": false
  },
  "varInspector": {
   "cols": {
    "lenName": 16,
    "lenType": 16,
    "lenVar": 40
   },
   "kernels_config": {
    "python": {
     "delete_cmd_postfix": "",
     "delete_cmd_prefix": "del ",
     "library": "var_list.py",
     "varRefreshCmd": "print(var_dic_list())"
    },
    "r": {
     "delete_cmd_postfix": ") ",
     "delete_cmd_prefix": "rm(",
     "library": "var_list.r",
     "varRefreshCmd": "cat(var_dic_list()) "
    }
   },
   "types_to_exclude": [
    "module",
    "function",
    "builtin_function_or_method",
    "instance",
    "_Feature"
   ],
   "window_display": false
  }
 },
 "nbformat": 4,
 "nbformat_minor": 4
}
